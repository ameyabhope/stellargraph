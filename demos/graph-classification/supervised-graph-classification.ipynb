{
 "cells": [
  {
   "cell_type": "markdown",
   "metadata": {},
   "source": [
    "# Supervised graph classification example\n",
    "\n",
    "This notebook demonstrates how to train a graph classification model in a supervised setting using graph convolutional layers followed by a mean pooling layer as well as any number of fully connected layers.\n",
    "\n",
    "The graph convolutional classification model architecture is based on the one proposed in [1] (see Figure 5 in [1]) using the graph convolutional layers from [2]. This demo differs from [1] in the dataset, MUTAG, used here; MUTAG is a collection of static graphs representing chemical compounds with each graph associated with a binary label. Furthermore, none of the graph convolutional layers in our model utilise an attention head as proposed in [1].\n",
    "\n",
    "Evaluation data for graph kernel-based approaches shown in the very last cell in this notebook are taken from [3].\n",
    "\n",
    "**References**\n",
    "\n",
    "[1] Fake News Detection on Social Media using Geometric Deep Learning, F. Monti, F. Frasca, D. Eynard, D. Mannion, and M. M. Bronstein, ICLR 2019. ([link](https://arxiv.org/abs/1902.06673))\n",
    "\n",
    "[2] Semi-supervised Classification with Graph Convolutional Networks, T. N. Kipf and M. Welling, ICLR 2017. ([link](https://arxiv.org/abs/1609.02907))\n",
    "\n",
    "[3] An End-to-End Deep Learning Architecture for Graph Classification, M. Zhang, Z. Cui, M. Neumann, Y. Chen, AAAI-18. ([link](https://www.aaai.org/ocs/index.php/AAAI/AAAI18/paper/viewPaper/17146))"
   ]
  },
  {
   "cell_type": "code",
   "execution_count": 1,
   "metadata": {},
   "outputs": [],
   "source": [
    "import pandas as pd\n",
    "import numpy as np\n",
    "\n",
    "import stellargraph as sg\n",
    "from stellargraph.mapper import GraphGenerator\n",
    "from stellargraph.layer import GCNSupervisedGraphClassification\n",
    "from stellargraph import StellarGraph\n",
    "\n",
    "from stellargraph import datasets\n",
    "\n",
    "from sklearn import model_selection\n",
    "from IPython.display import display, HTML\n",
    "\n",
    "from tensorflow.keras import Model\n",
    "from tensorflow.keras.optimizers import Adam\n",
    "from tensorflow.keras.layers import Dense\n",
    "from tensorflow.keras.losses import binary_crossentropy\n",
    "from tensorflow.keras.callbacks import EarlyStopping\n",
    "import tensorflow as tf"
   ]
  },
  {
   "cell_type": "markdown",
   "metadata": {},
   "source": [
    "## Import the data"
   ]
  },
  {
   "cell_type": "code",
   "execution_count": 2,
   "metadata": {},
   "outputs": [
    {
     "data": {
      "text/html": [
       "Each graph represents a chemical compound and graph labels represent 'their mutagenic effect on a specific gram negative bacterium.'The dataset includes 188 graphs with 18 nodes and 20 edges on average for each graph. Graph nodes have 7 labels and each graph is labelled as belonging to 1 of 2 classes."
      ],
      "text/plain": [
       "<IPython.core.display.HTML object>"
      ]
     },
     "metadata": {},
     "output_type": "display_data"
    }
   ],
   "source": [
    "dataset = datasets.MUTAG()\n",
    "display(HTML(dataset.description))\n",
    "graphs, graph_labels = dataset.load()"
   ]
  },
  {
   "cell_type": "code",
   "execution_count": 3,
   "metadata": {},
   "outputs": [],
   "source": [
    "graph_labels = pd.get_dummies(graph_labels, drop_first=True)"
   ]
  },
  {
   "cell_type": "markdown",
   "metadata": {},
   "source": [
    "### Prepare graph generator\n",
    "\n",
    "To feed data to the `tf.Keras` model that we will create later, we need a data generator. For supervised graph classification, we create an instance of `StellarGraph`'s `GraphGenerator` class."
   ]
  },
  {
   "cell_type": "code",
   "execution_count": 4,
   "metadata": {},
   "outputs": [],
   "source": [
    "generator = GraphGenerator(graphs=graphs)"
   ]
  },
  {
   "cell_type": "markdown",
   "metadata": {},
   "source": [
    "### Create the Keras graph classification model\n",
    "\n",
    "We are now ready to create a `tf.Keras` graph classification model using `StellarGraph`'s `GraphClassification` class together with standard `tf.Keras` layers, e.g., `Dense`. \n",
    "\n",
    "The below image shows the architecture we are going to use. The input is the graph represented by its adjacency and node features matrices. The first two layers are Graph Convolutional as in [2] with each layer having 64 units and `relu` activations. The next layer is a mean pooling layer where the learned node representation are summarized to create a graph representation. The graph representation is input to two fully connected layers with 32 and 16 units respectively and `relu` activations. The last layer is the output layer with a single unit and `sigmoid` activation."
   ]
  },
  {
   "cell_type": "markdown",
   "metadata": {},
   "source": [
    "![](graph_classification_architecture.png)"
   ]
  },
  {
   "cell_type": "code",
   "execution_count": 5,
   "metadata": {},
   "outputs": [],
   "source": [
    "def create_graph_classification_model(generator):\n",
    "    gc_model = GCNSupervisedGraphClassification(\n",
    "        layer_sizes=[64, 64],\n",
    "        activations=[\"relu\", \"relu\"],\n",
    "        generator=generator,\n",
    "        dropout=0.5,\n",
    "    )\n",
    "    x_inp, x_out = gc_model.build()\n",
    "    predictions = Dense(units=32, activation=\"relu\")(x_out)\n",
    "    predictions = Dense(units=16, activation=\"relu\")(predictions)\n",
    "    predictions = Dense(units=1, activation=\"sigmoid\")(predictions)\n",
    "\n",
    "    # Let's create the Keras model and prepare it for training\n",
    "    model = Model(inputs=x_inp, outputs=predictions)\n",
    "    model.compile(optimizer=Adam(0.005), loss=binary_crossentropy, metrics=[\"acc\"])\n",
    "\n",
    "    return model"
   ]
  },
  {
   "cell_type": "markdown",
   "metadata": {},
   "source": [
    "### Train the model\n",
    "\n",
    "We can now train the model using the model's `fit` method."
   ]
  },
  {
   "cell_type": "code",
   "execution_count": 6,
   "metadata": {
    "tags": [
     "parameters"
    ]
   },
   "outputs": [],
   "source": [
    "epochs = 500\n",
    "folds = 10  # for kfolds cross validation\n",
    "num_restarts = 5  # for each fold, train num_restarts randomly initialised models"
   ]
  },
  {
   "cell_type": "code",
   "execution_count": 7,
   "metadata": {},
   "outputs": [],
   "source": [
    "es = EarlyStopping(\n",
    "    monitor=\"val_loss\", min_delta=0, patience=50, restore_best_weights=True\n",
    ")"
   ]
  },
  {
   "cell_type": "markdown",
   "metadata": {},
   "source": [
    "The method `train_fold` is used to traing a graph classification model for a single fold of the data."
   ]
  },
  {
   "cell_type": "code",
   "execution_count": 8,
   "metadata": {},
   "outputs": [],
   "source": [
    "def train_fold(model, train_gen, test_gen, es, epochs):\n",
    "    history = model.fit(\n",
    "        train_gen, epochs=epochs, validation_data=test_gen, verbose=0, callbacks=[es],\n",
    "    )\n",
    "    # calculate performance on the test data and return along with history\n",
    "    test_metrics = model.evaluate(test_gen)\n",
    "    test_acc = test_metrics[model.metrics_names.index(\"acc\")]\n",
    "\n",
    "    return history, test_acc"
   ]
  },
  {
   "cell_type": "code",
   "execution_count": 9,
   "metadata": {},
   "outputs": [],
   "source": [
    "def get_generators(train_index, targets, batch_size):\n",
    "    train_gen = generator.flow(\n",
    "        train_index, targets=graph_labels.iloc[train_index].values, batch_size=batch_size\n",
    "    )\n",
    "    test_gen = generator.flow(\n",
    "        test_index, targets=graph_labels.iloc[test_index].values, batch_size=batch_size\n",
    "    )\n",
    "\n",
    "    return train_gen, test_gen"
   ]
  },
  {
   "cell_type": "markdown",
   "metadata": {},
   "source": [
    "The code below puts all the above functionality together in a training loop using 10-fold cross-validation. For each fold, we train a new model for `num_restart` times such that for each restart the model weights are initialized at random. For each fold, we select the best model based on the accuracy on the validation data. "
   ]
  },
  {
   "cell_type": "code",
   "execution_count": 10,
   "metadata": {},
   "outputs": [
    {
     "name": "stdout",
     "output_type": "stream",
     "text": [
      "  ['...']\n",
      "  ['...']\n",
      "  ['...']\n",
      "1/1 [==============================] - 0s 8ms/step - loss: 0.4803 - acc: 0.8421\n",
      "  ['...']\n",
      "  ['...']\n",
      "  ['...']\n",
      "1/1 [==============================] - 0s 13ms/step - loss: 0.4856 - acc: 0.8421\n",
      "  ['...']\n",
      "  ['...']\n",
      "  ['...']\n",
      "1/1 [==============================] - 0s 11ms/step - loss: 0.4519 - acc: 0.8421\n",
      "  ['...']\n",
      "  ['...']\n",
      "  ['...']\n",
      "1/1 [==============================] - 0s 17ms/step - loss: 0.4691 - acc: 0.7895\n",
      "  ['...']\n",
      "  ['...']\n",
      "  ['...']\n",
      "1/1 [==============================] - 0s 7ms/step - loss: 0.4663 - acc: 0.8421\n",
      "  ['...']\n",
      "  ['...']\n",
      "  ['...']\n",
      "1/1 [==============================] - 0s 8ms/step - loss: 0.6196 - acc: 0.6842\n",
      "  ['...']\n",
      "  ['...']\n",
      "  ['...']\n",
      "1/1 [==============================] - 0s 7ms/step - loss: 0.6152 - acc: 0.6316\n",
      "  ['...']\n",
      "  ['...']\n",
      "  ['...']\n",
      "1/1 [==============================] - 0s 7ms/step - loss: 0.6146 - acc: 0.6316\n",
      "  ['...']\n",
      "  ['...']\n",
      "  ['...']\n",
      "1/1 [==============================] - 0s 8ms/step - loss: 0.6161 - acc: 0.6316\n",
      "  ['...']\n",
      "  ['...']\n",
      "  ['...']\n",
      "1/1 [==============================] - 0s 7ms/step - loss: 0.6176 - acc: 0.6842\n",
      "  ['...']\n",
      "  ['...']\n",
      "  ['...']\n",
      "1/1 [==============================] - 0s 7ms/step - loss: 0.5726 - acc: 0.7895\n",
      "  ['...']\n",
      "  ['...']\n",
      "  ['...']\n",
      "1/1 [==============================] - 0s 8ms/step - loss: 0.5801 - acc: 0.6316\n",
      "  ['...']\n",
      "  ['...']\n",
      "  ['...']\n",
      "1/1 [==============================] - 0s 8ms/step - loss: 0.5752 - acc: 0.6842\n",
      "  ['...']\n",
      "  ['...']\n",
      "  ['...']\n",
      "1/1 [==============================] - 0s 8ms/step - loss: 0.5799 - acc: 0.7368\n",
      "  ['...']\n",
      "  ['...']\n",
      "  ['...']\n",
      "1/1 [==============================] - 0s 8ms/step - loss: 0.5781 - acc: 0.7368\n",
      "  ['...']\n",
      "  ['...']\n",
      "  ['...']\n",
      "1/1 [==============================] - 0s 8ms/step - loss: 0.6230 - acc: 0.6842\n",
      "  ['...']\n",
      "  ['...']\n",
      "  ['...']\n",
      "1/1 [==============================] - 0s 7ms/step - loss: 0.6253 - acc: 0.6842\n",
      "  ['...']\n",
      "  ['...']\n",
      "  ['...']\n",
      "1/1 [==============================] - 0s 7ms/step - loss: 0.6236 - acc: 0.6842\n",
      "  ['...']\n",
      "  ['...']\n",
      "  ['...']\n",
      "1/1 [==============================] - 0s 7ms/step - loss: 0.6219 - acc: 0.6842\n",
      "  ['...']\n",
      "  ['...']\n",
      "  ['...']\n",
      "1/1 [==============================] - 0s 8ms/step - loss: 0.6242 - acc: 0.6842\n",
      "  ['...']\n",
      "  ['...']\n",
      "  ['...']\n",
      "1/1 [==============================] - 0s 7ms/step - loss: 0.5164 - acc: 0.7368\n",
      "  ['...']\n",
      "  ['...']\n",
      "  ['...']\n",
      "1/1 [==============================] - 0s 8ms/step - loss: 0.5204 - acc: 0.7368\n",
      "  ['...']\n",
      "  ['...']\n",
      "  ['...']\n",
      "1/1 [==============================] - 0s 9ms/step - loss: 0.5181 - acc: 0.7368\n",
      "  ['...']\n",
      "  ['...']\n",
      "  ['...']\n",
      "1/1 [==============================] - 0s 7ms/step - loss: 0.5131 - acc: 0.6842\n",
      "  ['...']\n",
      "  ['...']\n",
      "  ['...']\n",
      "1/1 [==============================] - 0s 7ms/step - loss: 0.5278 - acc: 0.6842\n",
      "  ['...']\n",
      "  ['...']\n",
      "  ['...']\n",
      "1/1 [==============================] - 0s 8ms/step - loss: 0.5021 - acc: 0.8421\n",
      "  ['...']\n",
      "  ['...']\n",
      "  ['...']\n",
      "1/1 [==============================] - 0s 8ms/step - loss: 0.4862 - acc: 0.7368\n",
      "  ['...']\n",
      "  ['...']\n",
      "  ['...']\n",
      "1/1 [==============================] - 0s 7ms/step - loss: 0.5233 - acc: 0.7895\n",
      "  ['...']\n",
      "  ['...']\n",
      "  ['...']\n",
      "1/1 [==============================] - 0s 7ms/step - loss: 0.5234 - acc: 0.7895\n",
      "  ['...']\n",
      "  ['...']\n",
      "  ['...']\n",
      "1/1 [==============================] - 0s 7ms/step - loss: 0.5222 - acc: 0.8421\n",
      "  ['...']\n",
      "  ['...']\n",
      "  ['...']\n",
      "1/1 [==============================] - 0s 7ms/step - loss: 0.4641 - acc: 0.8421\n",
      "  ['...']\n",
      "  ['...']\n",
      "  ['...']\n",
      "1/1 [==============================] - 0s 7ms/step - loss: 0.4696 - acc: 0.8421\n",
      "  ['...']\n",
      "  ['...']\n",
      "  ['...']\n",
      "1/1 [==============================] - 0s 8ms/step - loss: 0.4825 - acc: 0.7895\n",
      "  ['...']\n",
      "  ['...']\n",
      "  ['...']\n",
      "1/1 [==============================] - 0s 11ms/step - loss: 0.4820 - acc: 0.8421\n",
      "  ['...']\n",
      "  ['...']\n",
      "  ['...']\n",
      "1/1 [==============================] - 0s 8ms/step - loss: 0.4778 - acc: 0.7895\n",
      "  ['...']\n",
      "  ['...']\n",
      "  ['...']\n",
      "1/1 [==============================] - 0s 8ms/step - loss: 0.3790 - acc: 0.8947\n",
      "  ['...']\n",
      "  ['...']\n",
      "  ['...']\n",
      "1/1 [==============================] - 0s 7ms/step - loss: 0.3800 - acc: 0.8947\n",
      "  ['...']\n",
      "  ['...']\n",
      "  ['...']\n",
      "1/1 [==============================] - 0s 18ms/step - loss: 0.3939 - acc: 0.8947\n",
      "  ['...']\n",
      "  ['...']\n",
      "  ['...']\n",
      "1/1 [==============================] - 0s 8ms/step - loss: 0.3881 - acc: 0.8947\n",
      "  ['...']\n",
      "  ['...']\n",
      "  ['...']\n",
      "1/1 [==============================] - 0s 8ms/step - loss: 0.3968 - acc: 0.8421\n",
      "  ['...']\n",
      "  ['...']\n",
      "  ['...']\n",
      "1/1 [==============================] - 0s 7ms/step - loss: 0.4940 - acc: 0.7222\n",
      "  ['...']\n",
      "  ['...']\n",
      "  ['...']\n",
      "1/1 [==============================] - 0s 7ms/step - loss: 0.5096 - acc: 0.6667\n",
      "  ['...']\n",
      "  ['...']\n",
      "  ['...']\n",
      "1/1 [==============================] - 0s 7ms/step - loss: 0.4845 - acc: 0.6667\n",
      "  ['...']\n",
      "  ['...']\n",
      "  ['...']\n",
      "1/1 [==============================] - 0s 7ms/step - loss: 0.4990 - acc: 0.7222\n",
      "  ['...']\n",
      "  ['...']\n",
      "  ['...']\n",
      "1/1 [==============================] - 0s 7ms/step - loss: 0.4789 - acc: 0.6667\n",
      "  ['...']\n",
      "  ['...']\n",
      "  ['...']\n",
      "1/1 [==============================] - 0s 7ms/step - loss: 0.5925 - acc: 0.7778\n",
      "  ['...']\n",
      "  ['...']\n",
      "  ['...']\n",
      "1/1 [==============================] - 0s 7ms/step - loss: 0.5755 - acc: 0.7778\n",
      "  ['...']\n",
      "  ['...']\n",
      "  ['...']\n",
      "1/1 [==============================] - 0s 7ms/step - loss: 0.6006 - acc: 0.7778\n",
      "  ['...']\n",
      "  ['...']\n",
      "  ['...']\n",
      "1/1 [==============================] - 0s 7ms/step - loss: 0.5958 - acc: 0.7778\n",
      "  ['...']\n",
      "  ['...']\n",
      "  ['...']\n",
      "1/1 [==============================] - 0s 7ms/step - loss: 0.5983 - acc: 0.7222\n"
     ]
    }
   ],
   "source": [
    "best_model = None\n",
    "best_model_history = None\n",
    "best_model_test_acc = 0.0\n",
    "test_accs = []\n",
    "\n",
    "for train_index, test_index in model_selection.StratifiedKFold(n_splits=folds).split(\n",
    "    graph_labels, graph_labels\n",
    "):\n",
    "\n",
    "    train_gen, test_gen = get_generators(train_index, test_index, batch_size=30)\n",
    "\n",
    "    best_test_acc_for_fold = 0\n",
    "    for _ in range(num_restarts):\n",
    "        model = create_graph_classification_model(generator)\n",
    "\n",
    "        history, test_acc = train_fold(model, train_gen, test_gen, es, epochs)\n",
    "\n",
    "        if test_acc > best_test_acc_for_fold:\n",
    "            best_test_acc_for_fold = test_acc\n",
    "        if (not best_model) or (test_acc > best_model_test_acc):\n",
    "            # the best overall model\n",
    "            best_model = model\n",
    "            best_model_history = history\n",
    "            best_model_test_acc = test_acc\n",
    "\n",
    "    test_accs.append(best_test_acc_for_fold)"
   ]
  },
  {
   "cell_type": "code",
   "execution_count": 11,
   "metadata": {},
   "outputs": [
    {
     "name": "stdout",
     "output_type": "stream",
     "text": [
      "Best model test accuracy: 0.8947368264198303\n"
     ]
    }
   ],
   "source": [
    "print(f\"Best model test accuracy: {best_model_test_acc}\")"
   ]
  },
  {
   "cell_type": "code",
   "execution_count": 12,
   "metadata": {},
   "outputs": [
    {
     "name": "stdout",
     "output_type": "stream",
     "text": [
      "Accuracy over all folds mean: 78.2% and std: 7.0%\n"
     ]
    }
   ],
   "source": [
    "print(\n",
    "    f\"Accuracy over all folds mean: {np.mean(test_accs)*100:.3}% and std: {np.std(test_accs)*100:.2}%\"\n",
    ")"
   ]
  },
  {
   "cell_type": "markdown",
   "metadata": {},
   "source": [
    "We are only going to plot the training history (losses and accuracies for the train and test data) for the best performing model."
   ]
  },
  {
   "cell_type": "code",
   "execution_count": 13,
   "metadata": {},
   "outputs": [
    {
     "data": {
      "image/png": "[encoded data removed]",
      "text/plain": [
       "<Figure size 504x576 with 2 Axes>"
      ]
     },
     "metadata": {
      "needs_background": "light"
     },
     "output_type": "display_data"
    }
   ],
   "source": [
    "sg.utils.plot_history(best_model_history)"
   ]
  },
  {
   "cell_type": "markdown",
   "metadata": {},
   "source": [
    "The curves shown above indicate the difficulty of training a good model on the MUTAG dataset due to the following factors,\n",
    "- small amount of available data, i.e., only 188 graphs\n",
    "- small amount of validation data since for a single fold only 19 graphs are used for validation\n",
    "- the data are unbalanced since the majority class is twice as prelevant in the data\n",
    "\n",
    "\n",
    "Given the above, average performance as estimated using 10-fold cross validation is $78.2\\pm7.0$. The high variance for this results is likely the result of the small dataset size.\n",
    "\n",
    "Generally, performance is a bit lower than SOTA in recent literature. However, we have not tuned the model for the best performance possible so some improvement over the current baseline may be attainable.\n",
    "\n",
    "When comparing to graph kernel-based approaches, our straightforward GCN with mean pooling graph classification model is competitive with the WL kernel being the exception.\n",
    "\n",
    "For comparison, some performance numbers repeated from [3] for graph kernel-based approaches are, \n",
    "- Graphlet Kernel (GK): $81.39\\pm1.74$\n",
    "- Random Walk Kernel (RW): $79.17\\pm2.07$\n",
    "- Propagation Kernel (PK): $76.00\\pm2.69$\n",
    "- Weisfeiler-Lehman Subtree Kernel (WL): $84.11\\pm1.91$"
   ]
  }
 ],
 "metadata": {
  "kernelspec": {
   "display_name": "Python 3",
   "language": "python",
   "name": "python3"
  },
  "language_info": {
   "codemirror_mode": {
    "name": "ipython",
    "version": 3
   },
   "file_extension": ".py",
   "mimetype": "text/x-python",
   "name": "python",
   "nbconvert_exporter": "python",
   "pygments_lexer": "ipython3",
   "version": "3.6.9"
  }
 },
 "nbformat": 4,
 "nbformat_minor": 2
}
