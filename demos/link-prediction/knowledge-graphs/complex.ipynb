{
 "cells": [
  {
   "cell_type": "markdown",
   "metadata": {},
   "source": [
    "# ComplEx on WN18 and FB15K\n",
    "\n",
    "This notebook reproduces the experiments done in the paper that introduced the ComplEx algorith: Complex Embeddings for Simple Link Prediction, Théo Trouillon, Johannes Welbl, Sebastian Riedel, Éric Gaussier and Guillaume Bouchard, ICML 2016. http://jmlr.org/proceedings/papers/v48/trouillon16.pdf\n",
    "\n",
    "In table 2, the paper reports five metrics measured on the WN18 and FB15K datasets: \"raw\" MRR (mean reciprocal rank), \"filtered\" MRR and filtered Hits at {1, 3, 10}. This notebook measures only the \"raw\" metrics, because the filtered ones are currently more difficult to compute."
   ]
  },
  {
   "cell_type": "code",
   "execution_count": 1,
   "metadata": {},
   "outputs": [],
   "source": [
    "from stellargraph import datasets, utils\n",
    "from tensorflow.keras import callbacks, optimizers, losses, metrics, regularizers, Model\n",
    "import numpy as np\n",
    "import pandas as pd\n",
    "\n",
    "from stellargraph.mapper import KGTripleGenerator\n",
    "from stellargraph.layer import ComplEx\n",
    "\n",
    "from IPython.display import HTML"
   ]
  },
  {
   "cell_type": "markdown",
   "metadata": {},
   "source": [
    "## Initialisation\n",
    "\n",
    "We need to set up our model parameters, like the number of epochs to train for, and the dimension of the embedding vectors we compute for each node and for each edge type. We'll also define a function to do our evaluation, so we can easily apply it to both WN18 and FB15k.\n",
    "\n",
    "The evaluation is performed in three steps:\n",
    "\n",
    "1. Load the data\n",
    "2. Train a model\n",
    "3. Evaluate the model\n",
    "\n",
    "The paper describes using the AdaGrad optimiser for 1000 epochs with an early stopping criterion evaluated every 50 epochs. We've found using the Adam optimiser allows for much fewer epochs. The paper says that the best choices of embedding dimension are generally 150 or 200, with close results. The paper evaluated using 1, 2, 5 and 10 negative samples, and found that using 10 improved performance on FB15k noticably (comparing to 1), but did not make much difference on WN18."
   ]
  },
  {
   "cell_type": "code",
   "execution_count": 2,
   "metadata": {
    "tags": [
     "parameters"
    ]
   },
   "outputs": [],
   "source": [
    "epochs = 50\n",
    "embedding_dimension = 150\n",
    "negative_samples = 10"
   ]
  },
  {
   "cell_type": "markdown",
   "metadata": {},
   "source": [
    "## WN18\n",
    "\n",
    "The paper uses the WN18 and FB15k datasets for validation. These datasets are not good for evaluating algorithms because they contain \"inverse relations\", where `(s, r1, o)` implies `(o, r2, s)` for a pair of relation types `r1` and `r2` (for instance, `_hyponym` (\"is more specific than\") and `_hypernym` (\"is more general than\") in WN18), however, they work fine to demonstrate StellarGraph's functionality, and are appropriate to compare against the published results.\n",
    "\n",
    "### Load the data\n",
    "\n",
    "The dataset comes with a defined train, test and validation split, each consisting of subject, relation, object triples. We can load a `StellarGraph` object with all of the triples, as well as the individual splits as Pandas DataFrames, using the `load` method of the `WN18` dataset."
   ]
  },
  {
   "cell_type": "code",
   "execution_count": 3,
   "metadata": {},
   "outputs": [
    {
     "data": {
      "text/html": [
       "The WN18 dataset consists of triplets from WordNet 3.0 (http://wordnet.princeton.edu). There are 40,943 synsets and 18 relation types among them. The training set contains 141442 triplets, the validation set 5000 and the test set 5000. Antoine Bordes, Xavier Glorot, Jason Weston and Yoshua Bengio “A Semantic Matching Energy Function for Learning with Multi-relational Data” (2014).\n",
       "\n",
       "Note: this dataset contains many inverse relations, and so should only be used to compare against published results. Prefer WN18RR. See: Kristina Toutanova and Danqi Chen “Observed versus latent features for knowledge base and text inference” (2015), and Dettmers, Tim, Pasquale Minervini, Pontus Stenetorp and Sebastian Riedel “Convolutional 2D Knowledge Graph Embeddings” (2017)."
      ],
      "text/plain": [
       "<IPython.core.display.HTML object>"
      ]
     },
     "metadata": {},
     "output_type": "display_data"
    }
   ],
   "source": [
    "wn18 = datasets.WN18()\n",
    "display(HTML(wn18.description))\n",
    "wn18_graph, wn18_train, wn18_test, wn18_valid = wn18.load()"
   ]
  },
  {
   "cell_type": "code",
   "execution_count": 4,
   "metadata": {},
   "outputs": [
    {
     "name": "stdout",
     "output_type": "stream",
     "text": [
      "StellarDiGraph: Directed multigraph\n",
      " Nodes: 40943, Edges: 151442\n",
      "\n",
      " Node types:\n",
      "  default: [40943]\n",
      "    Features: none\n",
      "    Edge types: default-_also_see->default, default-_derivationally_related_form->default, default-_has_part->default, default-_hypernym->default, default-_hyponym->default, ... (13 more)\n",
      "\n",
      " Edge types:\n",
      "    default-_hyponym->default: [37221]\n",
      "    default-_hypernym->default: [37221]\n",
      "    default-_derivationally_related_form->default: [31867]\n",
      "    default-_member_meronym->default: [7928]\n",
      "    default-_member_holonym->default: [7928]\n",
      "    default-_part_of->default: [5148]\n",
      "    default-_has_part->default: [5142]\n",
      "    default-_member_of_domain_topic->default: [3341]\n",
      "    default-_synset_domain_topic_of->default: [3335]\n",
      "    default-_instance_hyponym->default: [3150]\n",
      "    default-_instance_hypernym->default: [3150]\n",
      "    default-_also_see->default: [1396]\n",
      "    default-_verb_group->default: [1220]\n",
      "    default-_member_of_domain_region->default: [983]\n",
      "    default-_synset_domain_region_of->default: [982]\n",
      "    default-_member_of_domain_usage->default: [675]\n",
      "    default-_synset_domain_usage_of->default: [669]\n",
      "    default-_similar_to->default: [86]\n"
     ]
    }
   ],
   "source": [
    "print(wn18_graph.info())"
   ]
  },
  {
   "cell_type": "markdown",
   "metadata": {},
   "source": [
    "### Train a model\n",
    "\n",
    "The ComplEx algorithm consists of some embedding layers and a scoring layer, but the `ComplEx` object means these details are invisible to us. The `ComplEx` model consumes \"knowledge-graph triples\", which can be produced in the appropriate format using `KGTripleGenerator`."
   ]
  },
  {
   "cell_type": "code",
   "execution_count": 5,
   "metadata": {},
   "outputs": [],
   "source": [
    "wn18_gen = KGTripleGenerator(\n",
    "    wn18_graph, batch_size=len(wn18_train) // 100  # ~100 batches per epoch\n",
    ")\n",
    "\n",
    "wn18_complex = ComplEx(\n",
    "    wn18_gen, k=embedding_dimension, embeddings_regularizer=regularizers.l2(1e-7)\n",
    ")\n",
    "\n",
    "wn18_inp, wn18_out = wn18_complex.build()\n",
    "\n",
    "wn18_model = Model(inputs=wn18_inp, outputs=wn18_out)\n",
    "\n",
    "wn18_model.compile(\n",
    "    optimizer=optimizers.Adam(lr=0.001),\n",
    "    loss=losses.BinaryCrossentropy(from_logits=True),\n",
    "    metrics=[metrics.BinaryAccuracy(threshold=0.0)],\n",
    ")"
   ]
  },
  {
   "cell_type": "markdown",
   "metadata": {},
   "source": [
    "Inputs for training are produced by calling the `KGTripleGenerator.flow` method, this takes a dataframe with `source`, `label` and `target` columns, where each row is a true edge in the knowledge graph.  The `negative_samples` parameter controls how many random edges are created for each positive edge to use as negative examples for training."
   ]
  },
  {
   "cell_type": "code",
   "execution_count": 6,
   "metadata": {},
   "outputs": [],
   "source": [
    "wn18_train_gen = wn18_gen.flow(\n",
    "    wn18_train, negative_samples=negative_samples, shuffle=True\n",
    ")\n",
    "wn18_valid_gen = wn18_gen.flow(wn18_valid, negative_samples=negative_samples)"
   ]
  },
  {
   "cell_type": "code",
   "execution_count": 7,
   "metadata": {},
   "outputs": [
    {
     "name": "stdout",
     "output_type": "stream",
     "text": [
      "Train for 101 steps, validate for 4 steps\n",
      "Epoch 1/50\n",
      "101/101 [==============================] - 18s 176ms/step - loss: 0.6961 - binary_accuracy: 0.4998 - val_loss: 0.6960 - val_binary_accuracy: 0.5038\n",
      "Epoch 2/50\n",
      "101/101 [==============================] - 17s 166ms/step - loss: 0.6958 - binary_accuracy: 0.5048 - val_loss: 0.6957 - val_binary_accuracy: 0.5019\n",
      "Epoch 3/50\n",
      "101/101 [==============================] - 17s 165ms/step - loss: 0.6955 - binary_accuracy: 0.5141 - val_loss: 0.6954 - val_binary_accuracy: 0.5043\n",
      "Epoch 4/50\n",
      "101/101 [==============================] - 17s 166ms/step - loss: 0.6951 - binary_accuracy: 0.5268 - val_loss: 0.6951 - val_binary_accuracy: 0.5149\n",
      "Epoch 5/50\n",
      "101/101 [==============================] - 17s 172ms/step - loss: 0.6947 - binary_accuracy: 0.5428 - val_loss: 0.6947 - val_binary_accuracy: 0.5372\n",
      "Epoch 6/50\n",
      "101/101 [==============================] - 17s 169ms/step - loss: 0.6935 - binary_accuracy: 0.6274 - val_loss: 0.6915 - val_binary_accuracy: 0.7584\n",
      "Epoch 7/50\n",
      "101/101 [==============================] - 17s 171ms/step - loss: 0.6737 - binary_accuracy: 0.8890 - val_loss: 0.6376 - val_binary_accuracy: 0.9071\n",
      "Epoch 8/50\n",
      "101/101 [==============================] - 17s 170ms/step - loss: 0.5434 - binary_accuracy: 0.9089 - val_loss: 0.4426 - val_binary_accuracy: 0.9091\n",
      "Epoch 9/50\n",
      "101/101 [==============================] - 17s 170ms/step - loss: 0.3602 - binary_accuracy: 0.9103 - val_loss: 0.3175 - val_binary_accuracy: 0.9097\n",
      "Epoch 10/50\n",
      "101/101 [==============================] - 17s 170ms/step - loss: 0.2703 - binary_accuracy: 0.9175 - val_loss: 0.2635 - val_binary_accuracy: 0.9161\n",
      "Epoch 11/50\n",
      "101/101 [==============================] - 17s 170ms/step - loss: 0.2045 - binary_accuracy: 0.9327 - val_loss: 0.2147 - val_binary_accuracy: 0.9273\n",
      "Epoch 12/50\n",
      "101/101 [==============================] - 17s 170ms/step - loss: 0.1449 - binary_accuracy: 0.9591 - val_loss: 0.1683 - val_binary_accuracy: 0.9453\n",
      "Epoch 13/50\n",
      "101/101 [==============================] - 17s 169ms/step - loss: 0.1023 - binary_accuracy: 0.9804 - val_loss: 0.1331 - val_binary_accuracy: 0.9632\n",
      "Epoch 14/50\n",
      "101/101 [==============================] - 17s 171ms/step - loss: 0.0770 - binary_accuracy: 0.9915 - val_loss: 0.1091 - val_binary_accuracy: 0.9764\n",
      "Epoch 15/50\n",
      "101/101 [==============================] - 17s 170ms/step - loss: 0.0629 - binary_accuracy: 0.9961 - val_loss: 0.0939 - val_binary_accuracy: 0.9854\n",
      "Epoch 16/50\n",
      "101/101 [==============================] - 17s 171ms/step - loss: 0.0550 - binary_accuracy: 0.9977 - val_loss: 0.0849 - val_binary_accuracy: 0.9900\n",
      "Epoch 17/50\n",
      "101/101 [==============================] - 17s 171ms/step - loss: 0.0502 - binary_accuracy: 0.9985 - val_loss: 0.0798 - val_binary_accuracy: 0.9922\n",
      "Epoch 18/50\n",
      "101/101 [==============================] - 17s 171ms/step - loss: 0.0471 - binary_accuracy: 0.9989 - val_loss: 0.0760 - val_binary_accuracy: 0.9932\n",
      "Epoch 19/50\n",
      "101/101 [==============================] - 17s 171ms/step - loss: 0.0450 - binary_accuracy: 0.9992 - val_loss: 0.0738 - val_binary_accuracy: 0.9937\n",
      "Epoch 20/50\n",
      "101/101 [==============================] - 17s 167ms/step - loss: 0.0436 - binary_accuracy: 0.9993 - val_loss: 0.0733 - val_binary_accuracy: 0.9936\n",
      "Epoch 21/50\n",
      "101/101 [==============================] - 17s 166ms/step - loss: 0.0426 - binary_accuracy: 0.9994 - val_loss: 0.0714 - val_binary_accuracy: 0.9939\n",
      "Epoch 22/50\n",
      "101/101 [==============================] - 17s 166ms/step - loss: 0.0418 - binary_accuracy: 0.9993 - val_loss: 0.0702 - val_binary_accuracy: 0.9940\n",
      "Epoch 23/50\n",
      "101/101 [==============================] - 17s 164ms/step - loss: 0.0410 - binary_accuracy: 0.9994 - val_loss: 0.0703 - val_binary_accuracy: 0.9938\n",
      "Epoch 24/50\n",
      "101/101 [==============================] - 17s 166ms/step - loss: 0.0403 - binary_accuracy: 0.9994 - val_loss: 0.0701 - val_binary_accuracy: 0.9939\n",
      "Epoch 25/50\n",
      "101/101 [==============================] - 17s 164ms/step - loss: 0.0399 - binary_accuracy: 0.9995 - val_loss: 0.0688 - val_binary_accuracy: 0.9938\n",
      "Epoch 26/50\n",
      "101/101 [==============================] - 17s 164ms/step - loss: 0.0394 - binary_accuracy: 0.9994 - val_loss: 0.0692 - val_binary_accuracy: 0.9938\n",
      "Epoch 27/50\n",
      "101/101 [==============================] - 16s 162ms/step - loss: 0.0391 - binary_accuracy: 0.9994 - val_loss: 0.0682 - val_binary_accuracy: 0.9938\n",
      "Epoch 28/50\n",
      "101/101 [==============================] - 16s 163ms/step - loss: 0.0385 - binary_accuracy: 0.9994 - val_loss: 0.0675 - val_binary_accuracy: 0.9940\n",
      "Epoch 29/50\n",
      "101/101 [==============================] - 17s 164ms/step - loss: 0.0381 - binary_accuracy: 0.9994 - val_loss: 0.0676 - val_binary_accuracy: 0.9937\n",
      "Epoch 30/50\n",
      "101/101 [==============================] - 16s 163ms/step - loss: 0.0376 - binary_accuracy: 0.9995 - val_loss: 0.0659 - val_binary_accuracy: 0.9941\n",
      "Epoch 31/50\n",
      "101/101 [==============================] - 16s 163ms/step - loss: 0.0372 - binary_accuracy: 0.9995 - val_loss: 0.0662 - val_binary_accuracy: 0.9938\n",
      "Epoch 32/50\n",
      "101/101 [==============================] - 16s 162ms/step - loss: 0.0368 - binary_accuracy: 0.9995 - val_loss: 0.0657 - val_binary_accuracy: 0.9939\n",
      "Epoch 33/50\n",
      "101/101 [==============================] - 17s 164ms/step - loss: 0.0367 - binary_accuracy: 0.9994 - val_loss: 0.0647 - val_binary_accuracy: 0.9941\n",
      "Epoch 34/50\n",
      "101/101 [==============================] - 17s 164ms/step - loss: 0.0362 - binary_accuracy: 0.9994 - val_loss: 0.0648 - val_binary_accuracy: 0.9939\n",
      "Epoch 35/50\n",
      "101/101 [==============================] - 16s 163ms/step - loss: 0.0358 - binary_accuracy: 0.9994 - val_loss: 0.0638 - val_binary_accuracy: 0.9942\n",
      "Epoch 36/50\n",
      "101/101 [==============================] - 17s 164ms/step - loss: 0.0355 - binary_accuracy: 0.9994 - val_loss: 0.0640 - val_binary_accuracy: 0.9939\n",
      "Epoch 37/50\n",
      "101/101 [==============================] - 17s 164ms/step - loss: 0.0354 - binary_accuracy: 0.9994 - val_loss: 0.0636 - val_binary_accuracy: 0.9941\n",
      "Epoch 38/50\n",
      "101/101 [==============================] - 17s 164ms/step - loss: 0.0349 - binary_accuracy: 0.9994 - val_loss: 0.0634 - val_binary_accuracy: 0.9939\n",
      "Epoch 39/50\n",
      "101/101 [==============================] - 17s 167ms/step - loss: 0.0343 - binary_accuracy: 0.9994 - val_loss: 0.0630 - val_binary_accuracy: 0.9940\n",
      "Epoch 40/50\n",
      "101/101 [==============================] - 17s 167ms/step - loss: 0.0339 - binary_accuracy: 0.9995 - val_loss: 0.0623 - val_binary_accuracy: 0.9940\n",
      "Epoch 41/50\n",
      "101/101 [==============================] - 17s 165ms/step - loss: 0.0339 - binary_accuracy: 0.9994 - val_loss: 0.0616 - val_binary_accuracy: 0.9942\n",
      "Epoch 42/50\n",
      "101/101 [==============================] - 17s 165ms/step - loss: 0.0333 - binary_accuracy: 0.9995 - val_loss: 0.0615 - val_binary_accuracy: 0.9941\n",
      "Epoch 43/50\n",
      "101/101 [==============================] - 16s 163ms/step - loss: 0.0332 - binary_accuracy: 0.9994 - val_loss: 0.0614 - val_binary_accuracy: 0.9941\n",
      "Epoch 44/50\n",
      "101/101 [==============================] - 17s 166ms/step - loss: 0.0328 - binary_accuracy: 0.9994 - val_loss: 0.0616 - val_binary_accuracy: 0.9939\n",
      "Epoch 45/50\n",
      "101/101 [==============================] - 17s 170ms/step - loss: 0.0324 - binary_accuracy: 0.9994 - val_loss: 0.0609 - val_binary_accuracy: 0.9941\n",
      "Epoch 46/50\n",
      "101/101 [==============================] - 17s 164ms/step - loss: 0.0321 - binary_accuracy: 0.9994 - val_loss: 0.0600 - val_binary_accuracy: 0.9942\n",
      "Epoch 47/50\n",
      "101/101 [==============================] - 17s 165ms/step - loss: 0.0317 - binary_accuracy: 0.9994 - val_loss: 0.0608 - val_binary_accuracy: 0.9940\n",
      "Epoch 48/50\n",
      "101/101 [==============================] - 17s 164ms/step - loss: 0.0316 - binary_accuracy: 0.9994 - val_loss: 0.0600 - val_binary_accuracy: 0.9941\n",
      "Epoch 49/50\n",
      "101/101 [==============================] - 17s 164ms/step - loss: 0.0312 - binary_accuracy: 0.9994 - val_loss: 0.0600 - val_binary_accuracy: 0.9940\n",
      "Epoch 50/50\n",
      "101/101 [==============================] - 17s 165ms/step - loss: 0.0309 - binary_accuracy: 0.9994 - val_loss: 0.0591 - val_binary_accuracy: 0.9942\n"
     ]
    }
   ],
   "source": [
    "wn18_es = callbacks.EarlyStopping(monitor=\"val_loss\", patience=10)\n",
    "wn18_history = wn18_model.fit(\n",
    "    wn18_train_gen, validation_data=wn18_valid_gen, epochs=epochs, callbacks=[wn18_es]\n",
    ")"
   ]
  },
  {
   "cell_type": "code",
   "execution_count": 8,
   "metadata": {},
   "outputs": [
    {
     "data": {
      "image/png": "[encoded data removed]",
      "text/plain": [
       "<Figure size 504x576 with 2 Axes>"
      ]
     },
     "metadata": {
      "needs_background": "light"
     },
     "output_type": "display_data"
    }
   ],
   "source": [
    "utils.plot_history(wn18_history)"
   ]
  },
  {
   "cell_type": "markdown",
   "metadata": {},
   "source": [
    "### Evaluate the model\n",
    "\n",
    "We've now trained a model, so we can apply the evaluation procedure from the paper to it. This is done by taking each test edge `E = (s, r, o)`, and scoring it against all mutations `(s, r, n)` and `(n, r, o)` for every node `n` in the graph, that is, doing a prediction for every one of these edges similar to `E`. The \"raw\" rank is the number of mutated edges that have a higher predicted score than the true `E`."
   ]
  },
  {
   "cell_type": "code",
   "execution_count": 9,
   "metadata": {},
   "outputs": [],
   "source": [
    "wn18_raw_ranks, wn18_filtered_ranks = ComplEx.rank_edges_against_all_nodes(\n",
    "    wn18_model, wn18_gen.flow(wn18_test), wn18_graph\n",
    ")"
   ]
  },
  {
   "cell_type": "code",
   "execution_count": 10,
   "metadata": {},
   "outputs": [],
   "source": [
    "# helper function to compute metrics from a dictionary of name -> array of ranks\n",
    "def results_as_dataframe(name_to_results):\n",
    "    return pd.DataFrame(\n",
    "        name_to_results.values(),\n",
    "        columns=[\"mrr\", \"hits at 1\", \"hits at 3\", \"hits at 10\"],\n",
    "        index=name_to_results.keys(),\n",
    "    )\n",
    "\n",
    "\n",
    "def summarise(name_to_ranks):\n",
    "    return results_as_dataframe(\n",
    "        {\n",
    "            name: (\n",
    "                np.mean(1 / ranks),\n",
    "                np.mean(ranks <= 1),\n",
    "                np.mean(ranks < 3),\n",
    "                np.mean(ranks <= 10),\n",
    "            )\n",
    "            for name, ranks in name_to_ranks.items()\n",
    "        }\n",
    "    )"
   ]
  },
  {
   "cell_type": "code",
   "execution_count": 11,
   "metadata": {},
   "outputs": [
    {
     "data": {
      "text/html": [
       "<div>\n",
       "<style scoped>\n",
       "    .dataframe tbody tr th:only-of-type {\n",
       "        vertical-align: middle;\n",
       "    }\n",
       "\n",
       "    .dataframe tbody tr th {\n",
       "        vertical-align: top;\n",
       "    }\n",
       "\n",
       "    .dataframe thead th {\n",
       "        text-align: right;\n",
       "    }\n",
       "</style>\n",
       "<table border=\"1\" class=\"dataframe\">\n",
       "  <thead>\n",
       "    <tr style=\"text-align: right;\">\n",
       "      <th></th>\n",
       "      <th>mrr</th>\n",
       "      <th>hits at 1</th>\n",
       "      <th>hits at 3</th>\n",
       "      <th>hits at 10</th>\n",
       "    </tr>\n",
       "  </thead>\n",
       "  <tbody>\n",
       "    <tr>\n",
       "      <th>raw</th>\n",
       "      <td>0.595002</td>\n",
       "      <td>0.4762</td>\n",
       "      <td>0.6041</td>\n",
       "      <td>0.8168</td>\n",
       "    </tr>\n",
       "    <tr>\n",
       "      <th>filtered</th>\n",
       "      <td>0.937530</td>\n",
       "      <td>0.9264</td>\n",
       "      <td>0.9429</td>\n",
       "      <td>0.9533</td>\n",
       "    </tr>\n",
       "  </tbody>\n",
       "</table>\n",
       "</div>"
      ],
      "text/plain": [
       "               mrr  hits at 1  hits at 3  hits at 10\n",
       "raw       0.595002     0.4762     0.6041      0.8168\n",
       "filtered  0.937530     0.9264     0.9429      0.9533"
      ]
     },
     "execution_count": 11,
     "metadata": {},
     "output_type": "execute_result"
    }
   ],
   "source": [
    "summarise({\"raw\": wn18_raw_ranks, \"filtered\": wn18_filtered_ranks})"
   ]
  },
  {
   "cell_type": "markdown",
   "metadata": {},
   "source": [
    "For comparison, Table 2 in the paper gives the following results for WN18 (`NaN` denotes values the paper does not include). All of the numbers are similar:"
   ]
  },
  {
   "cell_type": "code",
   "execution_count": 12,
   "metadata": {},
   "outputs": [
    {
     "data": {
      "text/html": [
       "<div>\n",
       "<style scoped>\n",
       "    .dataframe tbody tr th:only-of-type {\n",
       "        vertical-align: middle;\n",
       "    }\n",
       "\n",
       "    .dataframe tbody tr th {\n",
       "        vertical-align: top;\n",
       "    }\n",
       "\n",
       "    .dataframe thead th {\n",
       "        text-align: right;\n",
       "    }\n",
       "</style>\n",
       "<table border=\"1\" class=\"dataframe\">\n",
       "  <thead>\n",
       "    <tr style=\"text-align: right;\">\n",
       "      <th></th>\n",
       "      <th>mrr</th>\n",
       "      <th>hits at 1</th>\n",
       "      <th>hits at 3</th>\n",
       "      <th>hits at 10</th>\n",
       "    </tr>\n",
       "  </thead>\n",
       "  <tbody>\n",
       "    <tr>\n",
       "      <th>raw</th>\n",
       "      <td>0.587</td>\n",
       "      <td>NaN</td>\n",
       "      <td>NaN</td>\n",
       "      <td>NaN</td>\n",
       "    </tr>\n",
       "    <tr>\n",
       "      <th>filtered</th>\n",
       "      <td>0.941</td>\n",
       "      <td>0.936</td>\n",
       "      <td>0.945</td>\n",
       "      <td>0.947</td>\n",
       "    </tr>\n",
       "  </tbody>\n",
       "</table>\n",
       "</div>"
      ],
      "text/plain": [
       "            mrr  hits at 1  hits at 3  hits at 10\n",
       "raw       0.587        NaN        NaN         NaN\n",
       "filtered  0.941      0.936      0.945       0.947"
      ]
     },
     "execution_count": 12,
     "metadata": {},
     "output_type": "execute_result"
    }
   ],
   "source": [
    "results_as_dataframe(\n",
    "    {\"raw\": (0.587, None, None, None), \"filtered\": (0.941, 0.936, 0.945, 0.947)}\n",
    ")"
   ]
  },
  {
   "cell_type": "markdown",
   "metadata": {},
   "source": [
    "## FB15k\n",
    "\n",
    "Now that we know the process, we can apply the model on the FB15k dataset in the same way.\n",
    "\n",
    "### Loading the data"
   ]
  },
  {
   "cell_type": "code",
   "execution_count": 13,
   "metadata": {},
   "outputs": [
    {
     "data": {
      "text/html": [
       "This FREEBASE FB15k DATA consists of a collection of triplets (synset, relation_type, triplet)extracted from Freebase (http://www.freebase.com). There are 14,951 mids and 1,345 relation types among them. The training set contains 483142 triplets, the validation set 50000 and the test set 59071. Antoine Bordes, Nicolas Usunier, Alberto Garcia-Durán, Jason Weston and Oksana Yakhnenko “Translating Embeddings for Modeling Multi-relational Data” (2013).\n",
       "\n",
       "Note: this dataset contains many inverse relations, and so should only be used to compare against published results. Prefer FB15k_237. See: Kristina Toutanova and Danqi Chen “Observed versus latent features for knowledge base and text inference” (2015), and Dettmers, Tim, Pasquale Minervini, Pontus Stenetorp and Sebastian Riedel “Convolutional 2D Knowledge Graph Embeddings” (2017)."
      ],
      "text/plain": [
       "<IPython.core.display.HTML object>"
      ]
     },
     "metadata": {},
     "output_type": "display_data"
    }
   ],
   "source": [
    "fb15k = datasets.FB15k()\n",
    "display(HTML(fb15k.description))\n",
    "fb15k_graph, fb15k_train, fb15k_test, fb15k_valid = fb15k.load()"
   ]
  },
  {
   "cell_type": "code",
   "execution_count": 14,
   "metadata": {},
   "outputs": [
    {
     "name": "stdout",
     "output_type": "stream",
     "text": [
      "StellarDiGraph: Directed multigraph\n",
      " Nodes: 14951, Edges: 592213\n",
      "\n",
      " Node types:\n",
      "  default: [14951]\n",
      "    Features: none\n",
      "    Edge types: default-/american_football/football_coach/coaching_history./american_football/football_historical_coach_position/position->default, default-/american_football/football_coach/coaching_history./american_football/football_historical_coach_position/team->default, default-/american_football/football_coach_position/coaches_holding_this_position./american_football/football_historical_coach_position/coach->default, default-/american_football/football_coach_position/coaches_holding_this_position./american_football/football_historical_coach_position/team->default, default-/american_football/football_player/current_team./american_football/football_roster_position/position->default, ... (1340 more)\n",
      "\n",
      " Edge types:\n",
      "    default-/award/award_nominee/award_nominations./award/award_nomination/award_nominee->default: [19764]\n",
      "    default-/film/film/release_date_s./film/film_regional_release_date/film_release_region->default: [15837]\n",
      "    default-/award/award_nominee/award_nominations./award/award_nomination/award->default: [14921]\n",
      "    default-/award/award_category/nominees./award/award_nomination/award_nominee->default: [14921]\n",
      "    default-/people/profession/people_with_this_profession->default: [14220]\n",
      "    default-/people/person/profession->default: [14220]\n",
      "    default-/film/film/starring./film/performance/actor->default: [11638]\n",
      "    default-/film/actor/film./film/performance/film->default: [11638]\n",
      "    default-/award/award_nominated_work/award_nominations./award/award_nomination/award->default: [11594]\n",
      "    default-/award/award_category/nominees./award/award_nomination/nominated_for->default: [11594]\n",
      "    default-/award/award_winner/awards_won./award/award_honor/award_winner->default: [10378]\n",
      "    default-/film/film_genre/films_in_this_genre->default: [8946]\n",
      "    default-/film/film/genre->default: [8946]\n",
      "    default-/award/award_nominee/award_nominations./award/award_nomination/nominated_for->default: [7632]\n",
      "    default-/award/award_nominated_work/award_nominations./award/award_nomination/award_nominee->default: [7632]\n",
      "    default-/film/film_job/films_with_this_crew_job./film/film_crew_gig/film->default: [7400]\n",
      "    default-/film/film/other_crew./film/film_crew_gig/film_crew_role->default: [7400]\n",
      "    default-/common/topic/webpage./common/webpage/category->default: [7232]\n",
      "    default-/common/annotation_category/annotations./common/webpage/topic->default: [7232]\n",
      "    default-/music/genre/artists->default: [7229]\n",
      "    ... (1325 more)\n"
     ]
    }
   ],
   "source": [
    "print(fb15k_graph.info())"
   ]
  },
  {
   "cell_type": "markdown",
   "metadata": {},
   "source": [
    "### Train a model"
   ]
  },
  {
   "cell_type": "code",
   "execution_count": 15,
   "metadata": {},
   "outputs": [],
   "source": [
    "fb15k_gen = KGTripleGenerator(\n",
    "    fb15k_graph, batch_size=len(fb15k_train) // 100  # ~100 batches per epoch\n",
    ")\n",
    "\n",
    "fb15k_complex = ComplEx(\n",
    "    fb15k_gen, k=embedding_dimension, embeddings_regularizer=regularizers.l2(1e-8)\n",
    ")\n",
    "\n",
    "fb15k_inp, fb15k_out = fb15k_complex.build()\n",
    "\n",
    "fb15k_model = Model(inputs=fb15k_inp, outputs=fb15k_out)\n",
    "fb15k_model.compile(\n",
    "    optimizer=optimizers.Adam(lr=0.001),\n",
    "    loss=losses.BinaryCrossentropy(from_logits=True),\n",
    "    metrics=[metrics.BinaryAccuracy(threshold=0.0)],\n",
    ")"
   ]
  },
  {
   "cell_type": "code",
   "execution_count": 16,
   "metadata": {},
   "outputs": [],
   "source": [
    "fb15k_train_gen = fb15k_gen.flow(\n",
    "    fb15k_train, negative_samples=negative_samples, shuffle=True\n",
    ")\n",
    "fb15k_valid_gen = fb15k_gen.flow(fb15k_valid, negative_samples=negative_samples)"
   ]
  },
  {
   "cell_type": "code",
   "execution_count": 17,
   "metadata": {},
   "outputs": [
    {
     "name": "stdout",
     "output_type": "stream",
     "text": [
      "Train for 101 steps, validate for 11 steps\n",
      "Epoch 1/50\n",
      "101/101 [==============================] - 31s 309ms/step - loss: 0.6933 - binary_accuracy: 0.5004 - val_loss: 0.6933 - val_binary_accuracy: 0.5005\n",
      "Epoch 2/50\n",
      "101/101 [==============================] - 31s 304ms/step - loss: 0.6933 - binary_accuracy: 0.5028 - val_loss: 0.6933 - val_binary_accuracy: 0.5014\n",
      "Epoch 3/50\n",
      "101/101 [==============================] - 30s 295ms/step - loss: 0.6932 - binary_accuracy: 0.5084 - val_loss: 0.6932 - val_binary_accuracy: 0.5083\n",
      "Epoch 4/50\n",
      "101/101 [==============================] - 30s 292ms/step - loss: 0.6930 - binary_accuracy: 0.5328 - val_loss: 0.6925 - val_binary_accuracy: 0.5665\n",
      "Epoch 5/50\n",
      "101/101 [==============================] - 30s 296ms/step - loss: 0.6795 - binary_accuracy: 0.7634 - val_loss: 0.6347 - val_binary_accuracy: 0.8972\n",
      "Epoch 6/50\n",
      "101/101 [==============================] - 30s 301ms/step - loss: 0.4838 - binary_accuracy: 0.9070 - val_loss: 0.3455 - val_binary_accuracy: 0.9086\n",
      "Epoch 7/50\n",
      "101/101 [==============================] - 31s 306ms/step - loss: 0.2923 - binary_accuracy: 0.9115 - val_loss: 0.2579 - val_binary_accuracy: 0.9158\n",
      "Epoch 8/50\n",
      "101/101 [==============================] - 31s 305ms/step - loss: 0.2316 - binary_accuracy: 0.9202 - val_loss: 0.2116 - val_binary_accuracy: 0.9234\n",
      "Epoch 9/50\n",
      "101/101 [==============================] - 31s 305ms/step - loss: 0.1881 - binary_accuracy: 0.9300 - val_loss: 0.1735 - val_binary_accuracy: 0.9330\n",
      "Epoch 10/50\n",
      "101/101 [==============================] - 31s 302ms/step - loss: 0.1535 - binary_accuracy: 0.9409 - val_loss: 0.1454 - val_binary_accuracy: 0.9422\n",
      "Epoch 11/50\n",
      "101/101 [==============================] - 31s 305ms/step - loss: 0.1285 - binary_accuracy: 0.9498 - val_loss: 0.1263 - val_binary_accuracy: 0.9489\n",
      "Epoch 12/50\n",
      "101/101 [==============================] - 30s 301ms/step - loss: 0.1107 - binary_accuracy: 0.9568 - val_loss: 0.1127 - val_binary_accuracy: 0.9545\n",
      "Epoch 13/50\n",
      "101/101 [==============================] - 30s 299ms/step - loss: 0.0973 - binary_accuracy: 0.9627 - val_loss: 0.1025 - val_binary_accuracy: 0.9583\n",
      "Epoch 14/50\n",
      "101/101 [==============================] - 30s 298ms/step - loss: 0.0867 - binary_accuracy: 0.9674 - val_loss: 0.0947 - val_binary_accuracy: 0.9615\n",
      "Epoch 15/50\n",
      "101/101 [==============================] - 30s 298ms/step - loss: 0.0781 - binary_accuracy: 0.9713 - val_loss: 0.0884 - val_binary_accuracy: 0.9643\n",
      "Epoch 16/50\n",
      "101/101 [==============================] - 30s 296ms/step - loss: 0.0713 - binary_accuracy: 0.9744 - val_loss: 0.0842 - val_binary_accuracy: 0.9661\n",
      "Epoch 17/50\n",
      "101/101 [==============================] - 30s 297ms/step - loss: 0.0655 - binary_accuracy: 0.9770 - val_loss: 0.0806 - val_binary_accuracy: 0.9676\n",
      "Epoch 18/50\n",
      "101/101 [==============================] - 30s 295ms/step - loss: 0.0611 - binary_accuracy: 0.9789 - val_loss: 0.0775 - val_binary_accuracy: 0.9694\n",
      "Epoch 19/50\n",
      "101/101 [==============================] - 30s 297ms/step - loss: 0.0571 - binary_accuracy: 0.9804 - val_loss: 0.0748 - val_binary_accuracy: 0.9706\n",
      "Epoch 20/50\n",
      "101/101 [==============================] - 30s 297ms/step - loss: 0.0542 - binary_accuracy: 0.9815 - val_loss: 0.0734 - val_binary_accuracy: 0.9713\n",
      "Epoch 21/50\n",
      "101/101 [==============================] - 30s 295ms/step - loss: 0.0516 - binary_accuracy: 0.9826 - val_loss: 0.0708 - val_binary_accuracy: 0.9728\n",
      "Epoch 22/50\n",
      "101/101 [==============================] - 30s 298ms/step - loss: 0.0491 - binary_accuracy: 0.9834 - val_loss: 0.0704 - val_binary_accuracy: 0.9729\n",
      "Epoch 23/50\n",
      "101/101 [==============================] - 30s 296ms/step - loss: 0.0472 - binary_accuracy: 0.9841 - val_loss: 0.0691 - val_binary_accuracy: 0.9737\n",
      "Epoch 24/50\n",
      "101/101 [==============================] - 30s 299ms/step - loss: 0.0458 - binary_accuracy: 0.9846 - val_loss: 0.0688 - val_binary_accuracy: 0.9745\n",
      "Epoch 25/50\n",
      "101/101 [==============================] - 30s 297ms/step - loss: 0.0441 - binary_accuracy: 0.9852 - val_loss: 0.0679 - val_binary_accuracy: 0.9749\n",
      "Epoch 26/50\n",
      "101/101 [==============================] - 30s 299ms/step - loss: 0.0429 - binary_accuracy: 0.9855 - val_loss: 0.0680 - val_binary_accuracy: 0.9747\n",
      "Epoch 27/50\n",
      "101/101 [==============================] - 30s 299ms/step - loss: 0.0419 - binary_accuracy: 0.9859 - val_loss: 0.0678 - val_binary_accuracy: 0.9748\n",
      "Epoch 28/50\n",
      "101/101 [==============================] - 30s 297ms/step - loss: 0.0408 - binary_accuracy: 0.9863 - val_loss: 0.0672 - val_binary_accuracy: 0.9755\n",
      "Epoch 29/50\n",
      "101/101 [==============================] - 30s 296ms/step - loss: 0.0401 - binary_accuracy: 0.9865 - val_loss: 0.0670 - val_binary_accuracy: 0.9757\n",
      "Epoch 30/50\n",
      "101/101 [==============================] - 30s 297ms/step - loss: 0.0392 - binary_accuracy: 0.9868 - val_loss: 0.0676 - val_binary_accuracy: 0.9755\n",
      "Epoch 31/50\n",
      "101/101 [==============================] - 30s 297ms/step - loss: 0.0386 - binary_accuracy: 0.9870 - val_loss: 0.0678 - val_binary_accuracy: 0.9761\n",
      "Epoch 32/50\n",
      "101/101 [==============================] - 30s 296ms/step - loss: 0.0380 - binary_accuracy: 0.9871 - val_loss: 0.0674 - val_binary_accuracy: 0.9758\n",
      "Epoch 33/50\n",
      "101/101 [==============================] - 30s 295ms/step - loss: 0.0375 - binary_accuracy: 0.9873 - val_loss: 0.0677 - val_binary_accuracy: 0.9759\n",
      "Epoch 34/50\n",
      "101/101 [==============================] - 30s 299ms/step - loss: 0.0369 - binary_accuracy: 0.9875 - val_loss: 0.0680 - val_binary_accuracy: 0.9759\n",
      "Epoch 35/50\n",
      "101/101 [==============================] - 31s 303ms/step - loss: 0.0365 - binary_accuracy: 0.9876 - val_loss: 0.0682 - val_binary_accuracy: 0.9760\n",
      "Epoch 36/50\n",
      "101/101 [==============================] - 30s 301ms/step - loss: 0.0360 - binary_accuracy: 0.9877 - val_loss: 0.0687 - val_binary_accuracy: 0.9758\n",
      "Epoch 37/50\n",
      "101/101 [==============================] - 31s 304ms/step - loss: 0.0355 - binary_accuracy: 0.9879 - val_loss: 0.0689 - val_binary_accuracy: 0.9755\n",
      "Epoch 38/50\n",
      "101/101 [==============================] - 31s 303ms/step - loss: 0.0353 - binary_accuracy: 0.9880 - val_loss: 0.0693 - val_binary_accuracy: 0.9759\n",
      "Epoch 39/50\n",
      "101/101 [==============================] - 31s 302ms/step - loss: 0.0349 - binary_accuracy: 0.9881 - val_loss: 0.0694 - val_binary_accuracy: 0.9758\n"
     ]
    }
   ],
   "source": [
    "fb15k_es = callbacks.EarlyStopping(monitor=\"val_loss\", patience=10)\n",
    "fb15k_history = fb15k_model.fit(\n",
    "    fb15k_train_gen, validation_data=fb15k_valid_gen, epochs=epochs, callbacks=[fb15k_es]\n",
    ")"
   ]
  },
  {
   "cell_type": "code",
   "execution_count": 18,
   "metadata": {},
   "outputs": [
    {
     "data": {
      "image/png": "[encoded data removed]",
      "text/plain": [
       "<Figure size 504x576 with 2 Axes>"
      ]
     },
     "metadata": {
      "needs_background": "light"
     },
     "output_type": "display_data"
    }
   ],
   "source": [
    "utils.plot_history(fb15k_history)"
   ]
  },
  {
   "cell_type": "markdown",
   "metadata": {},
   "source": [
    "### Evaluate the model"
   ]
  },
  {
   "cell_type": "code",
   "execution_count": 19,
   "metadata": {},
   "outputs": [],
   "source": [
    "fb15k_raw_ranks, fb15k_filtered_ranks = ComplEx.rank_edges_against_all_nodes(\n",
    "    fb15k_model, fb15k_gen.flow(fb15k_test), fb15k_graph\n",
    ")"
   ]
  },
  {
   "cell_type": "code",
   "execution_count": 20,
   "metadata": {},
   "outputs": [
    {
     "data": {
      "text/html": [
       "<div>\n",
       "<style scoped>\n",
       "    .dataframe tbody tr th:only-of-type {\n",
       "        vertical-align: middle;\n",
       "    }\n",
       "\n",
       "    .dataframe tbody tr th {\n",
       "        vertical-align: top;\n",
       "    }\n",
       "\n",
       "    .dataframe thead th {\n",
       "        text-align: right;\n",
       "    }\n",
       "</style>\n",
       "<table border=\"1\" class=\"dataframe\">\n",
       "  <thead>\n",
       "    <tr style=\"text-align: right;\">\n",
       "      <th></th>\n",
       "      <th>mrr</th>\n",
       "      <th>hits at 1</th>\n",
       "      <th>hits at 3</th>\n",
       "      <th>hits at 10</th>\n",
       "    </tr>\n",
       "  </thead>\n",
       "  <tbody>\n",
       "    <tr>\n",
       "      <th>raw</th>\n",
       "      <td>0.255130</td>\n",
       "      <td>0.139747</td>\n",
       "      <td>0.224772</td>\n",
       "      <td>0.508532</td>\n",
       "    </tr>\n",
       "    <tr>\n",
       "      <th>filtered</th>\n",
       "      <td>0.555645</td>\n",
       "      <td>0.421264</td>\n",
       "      <td>0.574546</td>\n",
       "      <td>0.799242</td>\n",
       "    </tr>\n",
       "  </tbody>\n",
       "</table>\n",
       "</div>"
      ],
      "text/plain": [
       "               mrr  hits at 1  hits at 3  hits at 10\n",
       "raw       0.255130   0.139747   0.224772    0.508532\n",
       "filtered  0.555645   0.421264   0.574546    0.799242"
      ]
     },
     "execution_count": 27,
     "metadata": {},
     "output_type": "execute_result"
    }
   ],
   "source": [
    "summarise({\"raw\": fb15k_raw_ranks, \"filtered\": fb15k_filtered_ranks})"
   ]
  },
  {
   "cell_type": "markdown",
   "metadata": {},
   "source": [
    "For comparison, Table 2 in the paper gives the following results for FB15k:"
   ]
  },
  {
   "cell_type": "code",
   "execution_count": 21,
   "metadata": {},
   "outputs": [
    {
     "data": {
      "text/html": [
       "<div>\n",
       "<style scoped>\n",
       "    .dataframe tbody tr th:only-of-type {\n",
       "        vertical-align: middle;\n",
       "    }\n",
       "\n",
       "    .dataframe tbody tr th {\n",
       "        vertical-align: top;\n",
       "    }\n",
       "\n",
       "    .dataframe thead th {\n",
       "        text-align: right;\n",
       "    }\n",
       "</style>\n",
       "<table border=\"1\" class=\"dataframe\">\n",
       "  <thead>\n",
       "    <tr style=\"text-align: right;\">\n",
       "      <th></th>\n",
       "      <th>mrr</th>\n",
       "      <th>hits at 1</th>\n",
       "      <th>hits at 3</th>\n",
       "      <th>hits at 10</th>\n",
       "    </tr>\n",
       "  </thead>\n",
       "  <tbody>\n",
       "    <tr>\n",
       "      <th>raw</th>\n",
       "      <td>0.242</td>\n",
       "      <td>NaN</td>\n",
       "      <td>NaN</td>\n",
       "      <td>NaN</td>\n",
       "    </tr>\n",
       "    <tr>\n",
       "      <th>filtered</th>\n",
       "      <td>0.692</td>\n",
       "      <td>0.599</td>\n",
       "      <td>0.759</td>\n",
       "      <td>0.85</td>\n",
       "    </tr>\n",
       "  </tbody>\n",
       "</table>\n",
       "</div>"
      ],
      "text/plain": [
       "            mrr  hits at 1  hits at 3  hits at 10\n",
       "raw       0.242        NaN        NaN         NaN\n",
       "filtered  0.692      0.599      0.759        0.85"
      ]
     },
     "execution_count": 28,
     "metadata": {},
     "output_type": "execute_result"
    }
   ],
   "source": [
    "results_as_dataframe(\n",
    "    {\"raw\": (0.242, None, None, None), \"filtered\": (0.692, 0.599, 0.759, 0.850)}\n",
    ")"
   ]
  }
 ],
 "metadata": {
  "kernelspec": {
   "display_name": "Python 3",
   "language": "python",
   "name": "python3"
  },
  "language_info": {
   "codemirror_mode": {
    "name": "ipython",
    "version": 3
   },
   "file_extension": ".py",
   "mimetype": "text/x-python",
   "name": "python",
   "nbconvert_exporter": "python",
   "pygments_lexer": "ipython3",
   "version": "3.6.9"
  }
 },
 "nbformat": 4,
 "nbformat_minor": 4
}
