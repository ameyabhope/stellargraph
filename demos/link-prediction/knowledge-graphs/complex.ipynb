{
 "cells": [
  {
   "cell_type": "markdown",
   "metadata": {},
   "source": [
    "# ComplEx on WN18 and FB15K\n",
    "\n",
    "This notebook reproduces the experiments done in the paper that introduced the ComplEx algorith: Complex Embeddings for Simple Link Prediction, Théo Trouillon, Johannes Welbl, Sebastian Riedel, Éric Gaussier and Guillaume Bouchard, ICML 2016. http://jmlr.org/proceedings/papers/v48/trouillon16.pdf\n",
    "\n",
    "In table 2, the paper reports five metrics measured on the WN18 and FB15K datasets: \"raw\" MRR (mean reciprocal rank), \"filtered\" MRR and filtered Hits at {1, 3, 10}. This notebook measures only the \"raw\" metrics, because the filtered ones are currently more difficult to compute."
   ]
  },
  {
   "cell_type": "code",
   "execution_count": 1,
   "metadata": {},
   "outputs": [],
   "source": [
    "from stellargraph import datasets, utils\n",
    "from tensorflow.keras import callbacks, optimizers, losses, metrics, regularizers, Model\n",
    "import numpy as np\n",
    "import pandas as pd\n",
    "\n",
    "from stellargraph.mapper import KGTripleGenerator\n",
    "from stellargraph.layer import ComplEx\n",
    "\n",
    "from IPython.display import HTML"
   ]
  },
  {
   "cell_type": "markdown",
   "metadata": {},
   "source": [
    "## Initialisation\n",
    "\n",
    "We need to set up our model parameters, like the number of epochs to train for, and the dimension of the embedding vectors we compute for each node and for each edge type. We'll also define a function to do our evaluation, so we can easily apply it to both WN18 and FB15k.\n",
    "\n",
    "The evaluation is performed in three steps:\n",
    "\n",
    "1. Load the data\n",
    "2. Train a model\n",
    "3. Evaluate the model\n",
    "\n",
    "The paper describes using the AdaGrad optimiser for 1000 epochs with an early stopping criterion evaluated every 50 epochs. We've found using the Adam optimiser allows for much fewer epochs. The paper says that the best choices of embedding dimension are generally 150 or 200, with close results. The paper evaluated using 1, 2, 5 and 10 negative samples, and found that using 10 improved performance on FB15k noticably (comparing to 1), but did not make much difference on WN18."
   ]
  },
  {
   "cell_type": "code",
   "execution_count": 2,
   "metadata": {
    "tags": [
     "parameters"
    ]
   },
   "outputs": [],
   "source": [
    "epochs = 50\n",
    "embedding_dimension = 150\n",
    "negative_samples = 10"
   ]
  },
  {
   "cell_type": "markdown",
   "metadata": {},
   "source": [
    "## WN18\n",
    "\n",
    "The paper uses the WN18 and FB15k datasets for validation. These datasets are not good for evaluating algorithms because they contain \"inverse relations\", where `(s, r1, o)` implies `(o, r2, s)` for a pair of relation types `r1` and `r2` (for instance, `_hyponym` (\"is more specific than\") and `_hypernym` (\"is more general than\") in WN18), however, they work fine to demonstrate StellarGraph's functionality, and are appropriate to compare against the published results.\n",
    "\n",
    "### Load the data\n",
    "\n",
    "The dataset comes with a defined train, test and validation split, each consisting of subject, relation, object triples. We can load a `StellarGraph` object with all of the triples, as well as the individual splits as Pandas DataFrames, using the `load` method of the `WN18` dataset."
   ]
  },
  {
   "cell_type": "code",
   "execution_count": 3,
   "metadata": {},
   "outputs": [
    {
     "data": {
      "text/html": [
       "The WN18 dataset consists of triplets from WordNet 3.0 (http://wordnet.princeton.edu). There are 40,943 synsets and 18 relation types among them. The training set contains 141442 triplets, the validation set 5000 and the test set 5000. Antoine Bordes, Xavier Glorot, Jason Weston and Yoshua Bengio “A Semantic Matching Energy Function for Learning with Multi-relational Data” (2014).\n",
       "\n",
       "Note: this dataset contains many inverse relations, and so should only be used to compare against published results. Prefer WN18RR. See: Kristina Toutanova and Danqi Chen “Observed versus latent features for knowledge base and text inference” (2015), and Dettmers, Tim, Pasquale Minervini, Pontus Stenetorp and Sebastian Riedel “Convolutional 2D Knowledge Graph Embeddings” (2017)."
      ],
      "text/plain": [
       "<IPython.core.display.HTML object>"
      ]
     },
     "metadata": {},
     "output_type": "display_data"
    }
   ],
   "source": [
    "wn18 = datasets.WN18()\n",
    "display(HTML(wn18.description))\n",
    "wn18_graph, wn18_train, wn18_test, wn18_valid = wn18.load()"
   ]
  },
  {
   "cell_type": "code",
   "execution_count": 4,
   "metadata": {},
   "outputs": [
    {
     "name": "stdout",
     "output_type": "stream",
     "text": [
      "StellarDiGraph: Directed multigraph\n",
      " Nodes: 40943, Edges: 151442\n",
      "\n",
      " Node types:\n",
      "  default: [40943]\n",
      "    Features: none\n",
      "    Edge types: default-_also_see->default, default-_derivationally_related_form->default, default-_has_part->default, default-_hypernym->default, default-_hyponym->default, ... (13 more)\n",
      "\n",
      " Edge types:\n",
      "    default-_hyponym->default: [37221]\n",
      "    default-_hypernym->default: [37221]\n",
      "    default-_derivationally_related_form->default: [31867]\n",
      "    default-_member_meronym->default: [7928]\n",
      "    default-_member_holonym->default: [7928]\n",
      "    default-_part_of->default: [5148]\n",
      "    default-_has_part->default: [5142]\n",
      "    default-_member_of_domain_topic->default: [3341]\n",
      "    default-_synset_domain_topic_of->default: [3335]\n",
      "    default-_instance_hyponym->default: [3150]\n",
      "    default-_instance_hypernym->default: [3150]\n",
      "    default-_also_see->default: [1396]\n",
      "    default-_verb_group->default: [1220]\n",
      "    default-_member_of_domain_region->default: [983]\n",
      "    default-_synset_domain_region_of->default: [982]\n",
      "    default-_member_of_domain_usage->default: [675]\n",
      "    default-_synset_domain_usage_of->default: [669]\n",
      "    default-_similar_to->default: [86]\n"
     ]
    }
   ],
   "source": [
    "print(wn18_graph.info())"
   ]
  },
  {
   "cell_type": "markdown",
   "metadata": {},
   "source": [
    "### Train a model\n",
    "\n",
    "The ComplEx algorithm consists of some embedding layers and a scoring layer, but the `ComplEx` object means these details are invisible to us. The `ComplEx` model consumes \"knowledge-graph triples\", which can be produced in the appropriate format using `KGTripleGenerator`."
   ]
  },
  {
   "cell_type": "code",
   "execution_count": 8,
   "metadata": {},
   "outputs": [],
   "source": [
    "wn18_gen = KGTripleGenerator(\n",
    "    wn18_graph, batch_size=len(wn18_train) // 100  # ~100 batches per epoch\n",
    ")\n",
    "\n",
    "wn18_complex = ComplEx(\n",
    "    wn18_gen, k=embedding_dimension, embeddings_regularizer=regularizers.l2(1e-7)\n",
    ")\n",
    "\n",
    "wn18_inp, wn18_out = wn18_complex.build()\n",
    "\n",
    "wn18_model = Model(inputs=wn18_inp, outputs=wn18_out)\n",
    "\n",
    "wn18_model.compile(\n",
    "    optimizer=optimizers.Adam(lr=0.001),\n",
    "    loss=losses.BinaryCrossentropy(from_logits=True),\n",
    "    metrics=[metrics.BinaryAccuracy(threshold=0.0)],\n",
    ")"
   ]
  },
  {
   "cell_type": "markdown",
   "metadata": {},
   "source": [
    "Inputs for training are produced by calling the `KGTripleGenerator.flow` method, this takes a dataframe with `source`, `label` and `target` columns, where each row is a true edge in the knowledge graph.  The `negative_samples` parameter controls how many random edges are created for each positive edge to use as negative examples for training."
   ]
  },
  {
   "cell_type": "code",
   "execution_count": 9,
   "metadata": {},
   "outputs": [],
   "source": [
    "wn18_train_gen = wn18_gen.flow(\n",
    "    wn18_train, negative_samples=negative_samples, shuffle=True\n",
    ")\n",
    "wn18_valid_gen = wn18_gen.flow(wn18_valid, negative_samples=negative_samples)"
   ]
  },
  {
   "cell_type": "code",
   "execution_count": 10,
   "metadata": {},
   "outputs": [
    {
     "name": "stdout",
     "output_type": "stream",
     "text": [
      "Train for 101 steps, validate for 4 steps\n",
      "Epoch 1/50\n",
      "101/101 [==============================] - 19s 185ms/step - loss: 0.6961 - binary_accuracy: 0.5003 - val_loss: 0.6960 - val_binary_accuracy: 0.4990\n",
      "Epoch 2/50\n",
      "101/101 [==============================] - 18s 179ms/step - loss: 0.6958 - binary_accuracy: 0.5058 - val_loss: 0.6957 - val_binary_accuracy: 0.5049\n",
      "Epoch 3/50\n",
      "101/101 [==============================] - 18s 180ms/step - loss: 0.6955 - binary_accuracy: 0.5148 - val_loss: 0.6954 - val_binary_accuracy: 0.5079\n",
      "Epoch 4/50\n",
      "101/101 [==============================] - 18s 178ms/step - loss: 0.6951 - binary_accuracy: 0.5281 - val_loss: 0.6951 - val_binary_accuracy: 0.5123\n",
      "Epoch 5/50\n",
      "101/101 [==============================] - 18s 180ms/step - loss: 0.6947 - binary_accuracy: 0.5413 - val_loss: 0.6947 - val_binary_accuracy: 0.5314\n",
      "Epoch 6/50\n",
      "101/101 [==============================] - 19s 184ms/step - loss: 0.6940 - binary_accuracy: 0.5766 - val_loss: 0.6934 - val_binary_accuracy: 0.6311\n",
      "Epoch 7/50\n",
      "101/101 [==============================] - 19s 183ms/step - loss: 0.6823 - binary_accuracy: 0.8394 - val_loss: 0.6561 - val_binary_accuracy: 0.9087\n",
      "Epoch 8/50\n",
      "101/101 [==============================] - 19s 185ms/step - loss: 0.5666 - binary_accuracy: 0.9092 - val_loss: 0.4632 - val_binary_accuracy: 0.9091\n",
      "Epoch 9/50\n",
      "101/101 [==============================] - 19s 185ms/step - loss: 0.3724 - binary_accuracy: 0.9102 - val_loss: 0.3230 - val_binary_accuracy: 0.9099\n",
      "Epoch 10/50\n",
      "101/101 [==============================] - 19s 184ms/step - loss: 0.2729 - binary_accuracy: 0.9175 - val_loss: 0.2648 - val_binary_accuracy: 0.9158\n",
      "Epoch 11/50\n",
      "101/101 [==============================] - 19s 187ms/step - loss: 0.2055 - binary_accuracy: 0.9326 - val_loss: 0.2144 - val_binary_accuracy: 0.9270\n",
      "Epoch 12/50\n",
      "101/101 [==============================] - 18s 183ms/step - loss: 0.1460 - binary_accuracy: 0.9590 - val_loss: 0.1676 - val_binary_accuracy: 0.9452\n",
      "Epoch 13/50\n",
      "101/101 [==============================] - 19s 184ms/step - loss: 0.1033 - binary_accuracy: 0.9802 - val_loss: 0.1327 - val_binary_accuracy: 0.9634\n",
      "Epoch 14/50\n",
      "101/101 [==============================] - 18s 180ms/step - loss: 0.0778 - binary_accuracy: 0.9909 - val_loss: 0.1093 - val_binary_accuracy: 0.9762\n",
      "Epoch 15/50\n",
      "101/101 [==============================] - 18s 179ms/step - loss: 0.0633 - binary_accuracy: 0.9959 - val_loss: 0.0943 - val_binary_accuracy: 0.9849\n",
      "Epoch 16/50\n",
      "101/101 [==============================] - 18s 176ms/step - loss: 0.0553 - binary_accuracy: 0.9976 - val_loss: 0.0855 - val_binary_accuracy: 0.9897\n",
      "Epoch 17/50\n",
      "101/101 [==============================] - 18s 177ms/step - loss: 0.0501 - binary_accuracy: 0.9985 - val_loss: 0.0802 - val_binary_accuracy: 0.9919\n",
      "Epoch 18/50\n",
      "101/101 [==============================] - 18s 179ms/step - loss: 0.0471 - binary_accuracy: 0.9989 - val_loss: 0.0766 - val_binary_accuracy: 0.9931\n",
      "Epoch 19/50\n",
      "101/101 [==============================] - 18s 177ms/step - loss: 0.0453 - binary_accuracy: 0.9991 - val_loss: 0.0741 - val_binary_accuracy: 0.9936\n",
      "Epoch 20/50\n",
      "101/101 [==============================] - 18s 178ms/step - loss: 0.0435 - binary_accuracy: 0.9993 - val_loss: 0.0724 - val_binary_accuracy: 0.9938\n",
      "Epoch 21/50\n",
      "101/101 [==============================] - 18s 178ms/step - loss: 0.0426 - binary_accuracy: 0.9993 - val_loss: 0.0715 - val_binary_accuracy: 0.9939\n",
      "Epoch 22/50\n",
      "101/101 [==============================] - 18s 175ms/step - loss: 0.0418 - binary_accuracy: 0.9994 - val_loss: 0.0704 - val_binary_accuracy: 0.9939\n",
      "Epoch 23/50\n",
      "101/101 [==============================] - 18s 178ms/step - loss: 0.0411 - binary_accuracy: 0.9994 - val_loss: 0.0700 - val_binary_accuracy: 0.9939\n",
      "Epoch 24/50\n",
      "101/101 [==============================] - 18s 177ms/step - loss: 0.0405 - binary_accuracy: 0.9994 - val_loss: 0.0694 - val_binary_accuracy: 0.9938\n",
      "Epoch 25/50\n",
      "101/101 [==============================] - 18s 176ms/step - loss: 0.0398 - binary_accuracy: 0.9995 - val_loss: 0.0693 - val_binary_accuracy: 0.9937\n",
      "Epoch 26/50\n",
      "101/101 [==============================] - 18s 177ms/step - loss: 0.0394 - binary_accuracy: 0.9994 - val_loss: 0.0688 - val_binary_accuracy: 0.9937\n",
      "Epoch 27/50\n",
      "101/101 [==============================] - 18s 177ms/step - loss: 0.0389 - binary_accuracy: 0.9994 - val_loss: 0.0675 - val_binary_accuracy: 0.9939\n",
      "Epoch 28/50\n",
      "101/101 [==============================] - 18s 177ms/step - loss: 0.0385 - binary_accuracy: 0.9994 - val_loss: 0.0666 - val_binary_accuracy: 0.9939\n",
      "Epoch 29/50\n",
      "101/101 [==============================] - 18s 177ms/step - loss: 0.0380 - binary_accuracy: 0.9994 - val_loss: 0.0665 - val_binary_accuracy: 0.9939\n",
      "Epoch 30/50\n",
      "101/101 [==============================] - 18s 178ms/step - loss: 0.0376 - binary_accuracy: 0.9995 - val_loss: 0.0664 - val_binary_accuracy: 0.9939\n",
      "Epoch 31/50\n",
      "101/101 [==============================] - 18s 177ms/step - loss: 0.0370 - binary_accuracy: 0.9995 - val_loss: 0.0658 - val_binary_accuracy: 0.9940\n",
      "Epoch 32/50\n",
      "101/101 [==============================] - 18s 180ms/step - loss: 0.0368 - binary_accuracy: 0.9994 - val_loss: 0.0652 - val_binary_accuracy: 0.9941\n",
      "Epoch 33/50\n",
      "101/101 [==============================] - 18s 177ms/step - loss: 0.0364 - binary_accuracy: 0.9995 - val_loss: 0.0652 - val_binary_accuracy: 0.9940\n",
      "Epoch 34/50\n",
      "101/101 [==============================] - 18s 177ms/step - loss: 0.0360 - binary_accuracy: 0.9994 - val_loss: 0.0649 - val_binary_accuracy: 0.9939\n",
      "Epoch 35/50\n",
      "101/101 [==============================] - 18s 180ms/step - loss: 0.0358 - binary_accuracy: 0.9994 - val_loss: 0.0638 - val_binary_accuracy: 0.9940\n",
      "Epoch 36/50\n",
      "101/101 [==============================] - 17s 166ms/step - loss: 0.0353 - binary_accuracy: 0.9995 - val_loss: 0.0632 - val_binary_accuracy: 0.9941\n",
      "Epoch 37/50\n",
      "101/101 [==============================] - 18s 175ms/step - loss: 0.0350 - binary_accuracy: 0.9994 - val_loss: 0.0624 - val_binary_accuracy: 0.9942\n",
      "Epoch 38/50\n",
      "101/101 [==============================] - 18s 178ms/step - loss: 0.0347 - binary_accuracy: 0.9994 - val_loss: 0.0626 - val_binary_accuracy: 0.9941\n",
      "Epoch 39/50\n",
      "101/101 [==============================] - 18s 181ms/step - loss: 0.0343 - binary_accuracy: 0.9994 - val_loss: 0.0623 - val_binary_accuracy: 0.9941\n",
      "Epoch 40/50\n",
      "101/101 [==============================] - 18s 181ms/step - loss: 0.0340 - binary_accuracy: 0.9994 - val_loss: 0.0630 - val_binary_accuracy: 0.9939\n",
      "Epoch 41/50\n",
      "101/101 [==============================] - 18s 177ms/step - loss: 0.0337 - binary_accuracy: 0.9994 - val_loss: 0.0620 - val_binary_accuracy: 0.9941\n",
      "Epoch 42/50\n",
      "101/101 [==============================] - 18s 179ms/step - loss: 0.0333 - binary_accuracy: 0.9994 - val_loss: 0.0610 - val_binary_accuracy: 0.9942\n",
      "Epoch 43/50\n",
      "101/101 [==============================] - 18s 181ms/step - loss: 0.0331 - binary_accuracy: 0.9994 - val_loss: 0.0610 - val_binary_accuracy: 0.9942\n",
      "Epoch 44/50\n",
      "101/101 [==============================] - 18s 179ms/step - loss: 0.0328 - binary_accuracy: 0.9994 - val_loss: 0.0610 - val_binary_accuracy: 0.9942\n",
      "Epoch 45/50\n",
      "101/101 [==============================] - 18s 177ms/step - loss: 0.0324 - binary_accuracy: 0.9994 - val_loss: 0.0601 - val_binary_accuracy: 0.9941\n",
      "Epoch 46/50\n",
      "101/101 [==============================] - 17s 171ms/step - loss: 0.0321 - binary_accuracy: 0.9994 - val_loss: 0.0603 - val_binary_accuracy: 0.9939\n",
      "Epoch 47/50\n",
      "101/101 [==============================] - 18s 178ms/step - loss: 0.0318 - binary_accuracy: 0.9994 - val_loss: 0.0595 - val_binary_accuracy: 0.9940\n",
      "Epoch 48/50\n",
      "101/101 [==============================] - 18s 181ms/step - loss: 0.0314 - binary_accuracy: 0.9995 - val_loss: 0.0593 - val_binary_accuracy: 0.9941\n",
      "Epoch 49/50\n",
      "101/101 [==============================] - 18s 176ms/step - loss: 0.0314 - binary_accuracy: 0.9994 - val_loss: 0.0582 - val_binary_accuracy: 0.9942\n",
      "Epoch 50/50\n",
      "101/101 [==============================] - 18s 178ms/step - loss: 0.0308 - binary_accuracy: 0.9994 - val_loss: 0.0590 - val_binary_accuracy: 0.9941\n"
     ]
    }
   ],
   "source": [
    "wn18_es = callbacks.EarlyStopping(monitor=\"val_loss\", patience=10)\n",
    "wn18_history = wn18_model.fit(\n",
    "    wn18_train_gen, validation_data=wn18_valid_gen, epochs=epochs, callbacks=[wn18_es]\n",
    ")"
   ]
  },
  {
   "cell_type": "code",
   "execution_count": 11,
   "metadata": {},
   "outputs": [
    {
     "data": {
      "image/png": "[encoded data removed]",
      "text/plain": [
       "<Figure size 504x576 with 2 Axes>"
      ]
     },
     "metadata": {
      "needs_background": "light"
     },
     "output_type": "display_data"
    }
   ],
   "source": [
    "utils.plot_history(wn18_history)"
   ]
  },
  {
   "cell_type": "markdown",
   "metadata": {},
   "source": [
    "### Evaluate the model\n",
    "\n",
    "We've now trained a model, so we can apply the evaluation procedure from the paper to it. This is done by taking each test edge `E = (s, r, o)`, and scoring it against all mutations `(s, r, n)` and `(n, r, o)` for every node `n` in the graph, that is, doing a prediction for every one of these edges similar to `E`. The \"raw\" rank is the number of mutated edges that have a higher predicted score than the true `E`."
   ]
  },
  {
   "cell_type": "code",
   "execution_count": 12,
   "metadata": {},
   "outputs": [],
   "source": [
    "wn18_raw_ranks, wn18_filtered_ranks = ComplEx.rank_edges_against_all_nodes(\n",
    "    wn18_model, wn18_gen.flow(wn18_test), wn18_graph\n",
    ")"
   ]
  },
  {
   "cell_type": "code",
   "execution_count": 13,
   "metadata": {},
   "outputs": [],
   "source": [
    "# helper function to compute metrics from a dictionary of name -> array of ranks\n",
    "def results_as_dataframe(name_to_results):\n",
    "    return pd.DataFrame(\n",
    "        name_to_results.values(),\n",
    "        columns=[\"mrr\", \"hits at 1\", \"hits at 3\", \"hits at 10\"],\n",
    "        index=name_to_results.keys(),\n",
    "    )\n",
    "\n",
    "\n",
    "def summarise(name_to_ranks):\n",
    "    return results_as_dataframe(\n",
    "        {\n",
    "            name: (\n",
    "                np.mean(1 / ranks),\n",
    "                np.mean(ranks <= 1),\n",
    "                np.mean(ranks < 3),\n",
    "                np.mean(ranks <= 10),\n",
    "            )\n",
    "            for name, ranks in name_to_ranks.items()\n",
    "        }\n",
    "    )"
   ]
  },
  {
   "cell_type": "code",
   "execution_count": 14,
   "metadata": {},
   "outputs": [
    {
     "data": {
      "text/html": [
       "<div>\n",
       "<style scoped>\n",
       "    .dataframe tbody tr th:only-of-type {\n",
       "        vertical-align: middle;\n",
       "    }\n",
       "\n",
       "    .dataframe tbody tr th {\n",
       "        vertical-align: top;\n",
       "    }\n",
       "\n",
       "    .dataframe thead th {\n",
       "        text-align: right;\n",
       "    }\n",
       "</style>\n",
       "<table border=\"1\" class=\"dataframe\">\n",
       "  <thead>\n",
       "    <tr style=\"text-align: right;\">\n",
       "      <th></th>\n",
       "      <th>mrr</th>\n",
       "      <th>hits at 1</th>\n",
       "      <th>hits at 3</th>\n",
       "      <th>hits at 10</th>\n",
       "    </tr>\n",
       "  </thead>\n",
       "  <tbody>\n",
       "    <tr>\n",
       "      <th>raw</th>\n",
       "      <td>0.594936</td>\n",
       "      <td>0.4763</td>\n",
       "      <td>0.6033</td>\n",
       "      <td>0.8165</td>\n",
       "    </tr>\n",
       "    <tr>\n",
       "      <th>filtered</th>\n",
       "      <td>0.598344</td>\n",
       "      <td>0.4815</td>\n",
       "      <td>0.6072</td>\n",
       "      <td>0.8166</td>\n",
       "    </tr>\n",
       "  </tbody>\n",
       "</table>\n",
       "</div>"
      ],
      "text/plain": [
       "               mrr  hits at 1  hits at 3  hits at 10\n",
       "raw       0.594936     0.4763     0.6033      0.8165\n",
       "filtered  0.598344     0.4815     0.6072      0.8166"
      ]
     },
     "execution_count": 14,
     "metadata": {},
     "output_type": "execute_result"
    }
   ],
   "source": [
    "summarise({\"raw\": wn18_raw_ranks, \"filtered\": wn18_filtered_ranks})"
   ]
  },
  {
   "cell_type": "markdown",
   "metadata": {},
   "source": [
    "For comparison, Table 2 in the paper gives the following results for WN18 (`NaN` denotes values the paper does not include). The raw MRR is similar."
   ]
  },
  {
   "cell_type": "code",
   "execution_count": 15,
   "metadata": {},
   "outputs": [
    {
     "data": {
      "text/html": [
       "<div>\n",
       "<style scoped>\n",
       "    .dataframe tbody tr th:only-of-type {\n",
       "        vertical-align: middle;\n",
       "    }\n",
       "\n",
       "    .dataframe tbody tr th {\n",
       "        vertical-align: top;\n",
       "    }\n",
       "\n",
       "    .dataframe thead th {\n",
       "        text-align: right;\n",
       "    }\n",
       "</style>\n",
       "<table border=\"1\" class=\"dataframe\">\n",
       "  <thead>\n",
       "    <tr style=\"text-align: right;\">\n",
       "      <th></th>\n",
       "      <th>mrr</th>\n",
       "      <th>hits at 1</th>\n",
       "      <th>hits at 3</th>\n",
       "      <th>hits at 10</th>\n",
       "    </tr>\n",
       "  </thead>\n",
       "  <tbody>\n",
       "    <tr>\n",
       "      <th>raw</th>\n",
       "      <td>0.587</td>\n",
       "      <td>NaN</td>\n",
       "      <td>NaN</td>\n",
       "      <td>NaN</td>\n",
       "    </tr>\n",
       "    <tr>\n",
       "      <th>filtered</th>\n",
       "      <td>0.941</td>\n",
       "      <td>0.936</td>\n",
       "      <td>0.945</td>\n",
       "      <td>0.947</td>\n",
       "    </tr>\n",
       "  </tbody>\n",
       "</table>\n",
       "</div>"
      ],
      "text/plain": [
       "            mrr  hits at 1  hits at 3  hits at 10\n",
       "raw       0.587        NaN        NaN         NaN\n",
       "filtered  0.941      0.936      0.945       0.947"
      ]
     },
     "execution_count": 15,
     "metadata": {},
     "output_type": "execute_result"
    }
   ],
   "source": [
    "results_as_dataframe(\n",
    "    {\"raw\": (0.587, None, None, None), \"filtered\": (0.941, 0.936, 0.945, 0.947)}\n",
    ")"
   ]
  },
  {
   "cell_type": "markdown",
   "metadata": {},
   "source": [
    "## FB15k\n",
    "\n",
    "Now that we know the process, we can apply the model on the FB15k dataset in the same way.\n",
    "\n",
    "### Loading the data"
   ]
  },
  {
   "cell_type": "code",
   "execution_count": 16,
   "metadata": {},
   "outputs": [
    {
     "data": {
      "text/html": [
       "This FREEBASE FB15k DATA consists of a collection of triplets (synset, relation_type, triplet)extracted from Freebase (http://www.freebase.com). There are 14,951 mids and 1,345 relation types among them. The training set contains 483142 triplets, the validation set 50000 and the test set 59071. Antoine Bordes, Nicolas Usunier, Alberto Garcia-Durán, Jason Weston and Oksana Yakhnenko “Translating Embeddings for Modeling Multi-relational Data” (2013).\n",
       "\n",
       "Note: this dataset contains many inverse relations, and so should only be used to compare against published results. Prefer FB15k_237. See: Kristina Toutanova and Danqi Chen “Observed versus latent features for knowledge base and text inference” (2015), and Dettmers, Tim, Pasquale Minervini, Pontus Stenetorp and Sebastian Riedel “Convolutional 2D Knowledge Graph Embeddings” (2017)."
      ],
      "text/plain": [
       "<IPython.core.display.HTML object>"
      ]
     },
     "metadata": {},
     "output_type": "display_data"
    }
   ],
   "source": [
    "fb15k = datasets.FB15k()\n",
    "display(HTML(fb15k.description))\n",
    "fb15k_graph, fb15k_train, fb15k_test, fb15k_valid = fb15k.load()"
   ]
  },
  {
   "cell_type": "code",
   "execution_count": 17,
   "metadata": {},
   "outputs": [
    {
     "name": "stdout",
     "output_type": "stream",
     "text": [
      "StellarDiGraph: Directed multigraph\n",
      " Nodes: 14951, Edges: 592213\n",
      "\n",
      " Node types:\n",
      "  default: [14951]\n",
      "    Features: none\n",
      "    Edge types: default-/american_football/football_coach/coaching_history./american_football/football_historical_coach_position/position->default, default-/american_football/football_coach/coaching_history./american_football/football_historical_coach_position/team->default, default-/american_football/football_coach_position/coaches_holding_this_position./american_football/football_historical_coach_position/coach->default, default-/american_football/football_coach_position/coaches_holding_this_position./american_football/football_historical_coach_position/team->default, default-/american_football/football_player/current_team./american_football/football_roster_position/position->default, ... (1340 more)\n",
      "\n",
      " Edge types:\n",
      "    default-/award/award_nominee/award_nominations./award/award_nomination/award_nominee->default: [19764]\n",
      "    default-/film/film/release_date_s./film/film_regional_release_date/film_release_region->default: [15837]\n",
      "    default-/award/award_nominee/award_nominations./award/award_nomination/award->default: [14921]\n",
      "    default-/award/award_category/nominees./award/award_nomination/award_nominee->default: [14921]\n",
      "    default-/people/profession/people_with_this_profession->default: [14220]\n",
      "    default-/people/person/profession->default: [14220]\n",
      "    default-/film/film/starring./film/performance/actor->default: [11638]\n",
      "    default-/film/actor/film./film/performance/film->default: [11638]\n",
      "    default-/award/award_nominated_work/award_nominations./award/award_nomination/award->default: [11594]\n",
      "    default-/award/award_category/nominees./award/award_nomination/nominated_for->default: [11594]\n",
      "    default-/award/award_winner/awards_won./award/award_honor/award_winner->default: [10378]\n",
      "    default-/film/film_genre/films_in_this_genre->default: [8946]\n",
      "    default-/film/film/genre->default: [8946]\n",
      "    default-/award/award_nominee/award_nominations./award/award_nomination/nominated_for->default: [7632]\n",
      "    default-/award/award_nominated_work/award_nominations./award/award_nomination/award_nominee->default: [7632]\n",
      "    default-/film/film_job/films_with_this_crew_job./film/film_crew_gig/film->default: [7400]\n",
      "    default-/film/film/other_crew./film/film_crew_gig/film_crew_role->default: [7400]\n",
      "    default-/common/topic/webpage./common/webpage/category->default: [7232]\n",
      "    default-/common/annotation_category/annotations./common/webpage/topic->default: [7232]\n",
      "    default-/music/genre/artists->default: [7229]\n",
      "    ... (1325 more)\n"
     ]
    }
   ],
   "source": [
    "print(fb15k_graph.info())"
   ]
  },
  {
   "cell_type": "markdown",
   "metadata": {},
   "source": [
    "### Train a model"
   ]
  },
  {
   "cell_type": "code",
   "execution_count": 18,
   "metadata": {},
   "outputs": [],
   "source": [
    "fb15k_gen = KGTripleGenerator(\n",
    "    fb15k_graph, batch_size=len(fb15k_train) // 100  # ~100 batches per epoch\n",
    ")\n",
    "\n",
    "fb15k_complex = ComplEx(\n",
    "    fb15k_gen, k=embedding_dimension, embeddings_regularizer=regularizers.l2(1e-8)\n",
    ")\n",
    "\n",
    "fb15k_inp, fb15k_out = fb15k_complex.build()\n",
    "\n",
    "fb15k_model = Model(inputs=fb15k_inp, outputs=fb15k_out)\n",
    "fb15k_model.compile(\n",
    "    optimizer=optimizers.Adam(lr=0.01),\n",
    "    loss=losses.BinaryCrossentropy(from_logits=True),\n",
    "    metrics=[metrics.BinaryAccuracy(threshold=0.0)],\n",
    ")"
   ]
  },
  {
   "cell_type": "code",
   "execution_count": 19,
   "metadata": {},
   "outputs": [],
   "source": [
    "fb15k_train_gen = fb15k_gen.flow(\n",
    "    fb15k_train, negative_samples=negative_samples, shuffle=True\n",
    ")\n",
    "fb15k_valid_gen = fb15k_gen.flow(fb15k_valid, negative_samples=negative_samples)"
   ]
  },
  {
   "cell_type": "code",
   "execution_count": 20,
   "metadata": {},
   "outputs": [
    {
     "name": "stdout",
     "output_type": "stream",
     "text": [
      "Train for 101 steps, validate for 11 steps\n",
      "Epoch 1/50\n",
      "101/101 [==============================] - 32s 314ms/step - loss: 0.6861 - binary_accuracy: 0.5743 - val_loss: 0.5732 - val_binary_accuracy: 0.9002\n",
      "Epoch 2/50\n",
      "101/101 [==============================] - 31s 307ms/step - loss: 0.2337 - binary_accuracy: 0.9278 - val_loss: 0.1178 - val_binary_accuracy: 0.9526\n",
      "Epoch 3/50\n",
      "101/101 [==============================] - 32s 314ms/step - loss: 0.0845 - binary_accuracy: 0.9668 - val_loss: 0.0774 - val_binary_accuracy: 0.9697\n",
      "Epoch 4/50\n",
      "101/101 [==============================] - 32s 315ms/step - loss: 0.0566 - binary_accuracy: 0.9789 - val_loss: 0.0687 - val_binary_accuracy: 0.9738\n",
      "Epoch 5/50\n",
      "101/101 [==============================] - 31s 311ms/step - loss: 0.0480 - binary_accuracy: 0.9828 - val_loss: 0.0681 - val_binary_accuracy: 0.9750\n",
      "Epoch 6/50\n",
      "101/101 [==============================] - 32s 314ms/step - loss: 0.0450 - binary_accuracy: 0.9842 - val_loss: 0.0712 - val_binary_accuracy: 0.9755\n",
      "Epoch 7/50\n",
      "101/101 [==============================] - 32s 313ms/step - loss: 0.0435 - binary_accuracy: 0.9848 - val_loss: 0.0723 - val_binary_accuracy: 0.9750\n",
      "Epoch 8/50\n",
      "101/101 [==============================] - 32s 315ms/step - loss: 0.0422 - binary_accuracy: 0.9853 - val_loss: 0.0744 - val_binary_accuracy: 0.9747\n",
      "Epoch 9/50\n",
      "101/101 [==============================] - 31s 309ms/step - loss: 0.0417 - binary_accuracy: 0.9857 - val_loss: 0.0759 - val_binary_accuracy: 0.9744\n",
      "Epoch 10/50\n",
      "101/101 [==============================] - 31s 310ms/step - loss: 0.0411 - binary_accuracy: 0.9859 - val_loss: 0.0761 - val_binary_accuracy: 0.9746\n",
      "Epoch 11/50\n",
      "101/101 [==============================] - 31s 311ms/step - loss: 0.0410 - binary_accuracy: 0.9860 - val_loss: 0.0780 - val_binary_accuracy: 0.9744\n",
      "Epoch 12/50\n",
      "101/101 [==============================] - 31s 306ms/step - loss: 0.0401 - binary_accuracy: 0.9863 - val_loss: 0.0798 - val_binary_accuracy: 0.9736\n",
      "Epoch 13/50\n",
      "101/101 [==============================] - 31s 303ms/step - loss: 0.0401 - binary_accuracy: 0.9865 - val_loss: 0.0811 - val_binary_accuracy: 0.9734\n",
      "Epoch 14/50\n",
      "101/101 [==============================] - 31s 305ms/step - loss: 0.0400 - binary_accuracy: 0.9864 - val_loss: 0.0816 - val_binary_accuracy: 0.9730\n",
      "Epoch 15/50\n",
      "101/101 [==============================] - 31s 307ms/step - loss: 0.0396 - binary_accuracy: 0.9867 - val_loss: 0.0823 - val_binary_accuracy: 0.9732\n"
     ]
    }
   ],
   "source": [
    "fb15k_es = callbacks.EarlyStopping(monitor=\"val_loss\", patience=10)\n",
    "fb15k_history = fb15k_model.fit(\n",
    "    fb15k_train_gen, validation_data=fb15k_valid_gen, epochs=epochs, callbacks=[fb15k_es]\n",
    ")"
   ]
  },
  {
   "cell_type": "code",
   "execution_count": 21,
   "metadata": {},
   "outputs": [
    {
     "data": {
      "image/png": "[encoded data removed]",
      "text/plain": [
       "<Figure size 504x576 with 2 Axes>"
      ]
     },
     "metadata": {
      "needs_background": "light"
     },
     "output_type": "display_data"
    }
   ],
   "source": [
    "utils.plot_history(fb15k_history)"
   ]
  },
  {
   "cell_type": "markdown",
   "metadata": {},
   "source": [
    "### Evaluate the model"
   ]
  },
  {
   "cell_type": "code",
   "execution_count": 22,
   "metadata": {},
   "outputs": [],
   "source": [
    "fb15k_raw_ranks, fb15k_filtered_ranks = ComplEx.rank_edges_against_all_nodes(\n",
    "    fb15k_model, fb15k_gen.flow(fb15k_test), fb15k_graph\n",
    ")"
   ]
  },
  {
   "cell_type": "code",
   "execution_count": 23,
   "metadata": {},
   "outputs": [
    {
     "data": {
      "text/html": [
       "<div>\n",
       "<style scoped>\n",
       "    .dataframe tbody tr th:only-of-type {\n",
       "        vertical-align: middle;\n",
       "    }\n",
       "\n",
       "    .dataframe tbody tr th {\n",
       "        vertical-align: top;\n",
       "    }\n",
       "\n",
       "    .dataframe thead th {\n",
       "        text-align: right;\n",
       "    }\n",
       "</style>\n",
       "<table border=\"1\" class=\"dataframe\">\n",
       "  <thead>\n",
       "    <tr style=\"text-align: right;\">\n",
       "      <th></th>\n",
       "      <th>mrr</th>\n",
       "      <th>hits at 1</th>\n",
       "      <th>hits at 3</th>\n",
       "      <th>hits at 10</th>\n",
       "    </tr>\n",
       "  </thead>\n",
       "  <tbody>\n",
       "    <tr>\n",
       "      <th>raw</th>\n",
       "      <td>0.270867</td>\n",
       "      <td>0.154653</td>\n",
       "      <td>0.243131</td>\n",
       "      <td>0.524064</td>\n",
       "    </tr>\n",
       "    <tr>\n",
       "      <th>filtered</th>\n",
       "      <td>0.299558</td>\n",
       "      <td>0.185345</td>\n",
       "      <td>0.275694</td>\n",
       "      <td>0.544878</td>\n",
       "    </tr>\n",
       "  </tbody>\n",
       "</table>\n",
       "</div>"
      ],
      "text/plain": [
       "               mrr  hits at 1  hits at 3  hits at 10\n",
       "raw       0.270867   0.154653   0.243131    0.524064\n",
       "filtered  0.299558   0.185345   0.275694    0.544878"
      ]
     },
     "execution_count": 23,
     "metadata": {},
     "output_type": "execute_result"
    }
   ],
   "source": [
    "summarise({\"raw\": fb15k_raw_ranks, \"filtered\": fb15k_filtered_ranks})"
   ]
  },
  {
   "cell_type": "markdown",
   "metadata": {},
   "source": [
    "For comparison, Table 2 in the paper gives the following results for FB15k:"
   ]
  },
  {
   "cell_type": "code",
   "execution_count": 24,
   "metadata": {},
   "outputs": [
    {
     "data": {
      "text/html": [
       "<div>\n",
       "<style scoped>\n",
       "    .dataframe tbody tr th:only-of-type {\n",
       "        vertical-align: middle;\n",
       "    }\n",
       "\n",
       "    .dataframe tbody tr th {\n",
       "        vertical-align: top;\n",
       "    }\n",
       "\n",
       "    .dataframe thead th {\n",
       "        text-align: right;\n",
       "    }\n",
       "</style>\n",
       "<table border=\"1\" class=\"dataframe\">\n",
       "  <thead>\n",
       "    <tr style=\"text-align: right;\">\n",
       "      <th></th>\n",
       "      <th>mrr</th>\n",
       "      <th>hits at 1</th>\n",
       "      <th>hits at 3</th>\n",
       "      <th>hits at 10</th>\n",
       "    </tr>\n",
       "  </thead>\n",
       "  <tbody>\n",
       "    <tr>\n",
       "      <th>raw</th>\n",
       "      <td>0.242</td>\n",
       "      <td>NaN</td>\n",
       "      <td>NaN</td>\n",
       "      <td>NaN</td>\n",
       "    </tr>\n",
       "    <tr>\n",
       "      <th>filtered</th>\n",
       "      <td>0.692</td>\n",
       "      <td>0.599</td>\n",
       "      <td>0.759</td>\n",
       "      <td>0.85</td>\n",
       "    </tr>\n",
       "  </tbody>\n",
       "</table>\n",
       "</div>"
      ],
      "text/plain": [
       "            mrr  hits at 1  hits at 3  hits at 10\n",
       "raw       0.242        NaN        NaN         NaN\n",
       "filtered  0.692      0.599      0.759        0.85"
      ]
     },
     "execution_count": 24,
     "metadata": {},
     "output_type": "execute_result"
    }
   ],
   "source": [
    "results_as_dataframe(\n",
    "    {\"raw\": (0.242, None, None, None), \"filtered\": (0.692, 0.599, 0.759, 0.850)}\n",
    ")"
   ]
  },
  {
   "cell_type": "code",
   "execution_count": null,
   "metadata": {},
   "outputs": [],
   "source": []
  }
 ],
 "metadata": {
  "kernelspec": {
   "display_name": "sg4",
   "language": "python",
   "name": "sg4"
  },
  "language_info": {
   "codemirror_mode": {
    "name": "ipython",
    "version": 3
   },
   "file_extension": ".py",
   "mimetype": "text/x-python",
   "name": "python",
   "nbconvert_exporter": "python",
   "pygments_lexer": "ipython3",
   "version": "3.6.9"
  }
 },
 "nbformat": 4,
 "nbformat_minor": 4
}
